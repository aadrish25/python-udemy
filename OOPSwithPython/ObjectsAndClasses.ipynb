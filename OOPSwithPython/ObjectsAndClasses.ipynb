{
 "cells": [
  {
   "cell_type": "code",
   "execution_count": 2,
   "id": "8a626157",
   "metadata": {},
   "outputs": [],
   "source": [
    "###Classes are blueprints of objects and objects are instance of a class."
   ]
  },
  {
   "cell_type": "code",
   "execution_count": 3,
   "metadata": {},
   "outputs": [
    {
     "name": "stdout",
     "output_type": "stream",
     "text": [
      "<class '__main__.Car'>\n"
     ]
    }
   ],
   "source": [
    "class Car:\n",
    "    pass\n",
    "\n",
    "audi=Car()##audi is an object of class Car\n",
    "print(type(audi))"
   ]
  },
  {
   "cell_type": "code",
   "execution_count": 4,
   "id": "127a8b8b",
   "metadata": {},
   "outputs": [
    {
     "name": "stdout",
     "output_type": "stream",
     "text": [
      "My name is Kaju and I am 1 years old\n",
      "Kaju says woof\n",
      "My name is Dimpy and I am 3 years old\n"
     ]
    }
   ],
   "source": [
    "class Dog:\n",
    "    def __init__(self,name,age):##self points to the curent object that is calling the method \n",
    "        self.name=name\n",
    "        self.age=age\n",
    "        print(f\"My name is {self.name} and I am {self.age} years old\")### self.name == currentObject.name (can be interpreted like this)\n",
    "\n",
    "        ## Here name and age are the attributes of a dog class\n",
    "\n",
    "        ## Let us build a method for dog class\n",
    "    \n",
    "    def bark(self): ## self keyword is used here as wwell, so that we can use the instance variables=> name and age inside his method as well\n",
    "        print(f\"{self.name} says woof\")\n",
    "\n",
    "dog1=Dog(\"Kaju\",1)\n",
    "dog1.bark()\n",
    "dog2=Dog(\"Dimpy\",3)"
   ]
  },
  {
   "cell_type": "code",
   "execution_count": 5,
   "id": "6544ede7",
   "metadata": {},
   "outputs": [
    {
     "name": "stdout",
     "output_type": "stream",
     "text": [
      "Current balance: 1000\n",
      "Succesfully withdrawn 100\n",
      "Current balance: 900\n"
     ]
    }
   ],
   "source": [
    "## Modelling a bank account\n",
    "\n",
    "class BankAccount:\n",
    "    def __init__(self,balance):\n",
    "        self.balance=balance  ## these are the instance variables of the class\n",
    "        print(f\"Current balance: {self.balance}\") \n",
    "\n",
    "## Importance of self keyword=> allows us to use instance variables anywhere within a class \n",
    "\n",
    "    def deposit(self):\n",
    "        amount=int(input(\"Enter amount you want to deposit: \")) ## note that here \"amount\" is not an instance variable\n",
    "        self.balance=self.balance+amount\n",
    "        print(f\"Succesfully deposited {amount}\")\n",
    "        print(f\"Current balance: {self.balance}\")\n",
    "\n",
    "    def withdraw(self):\n",
    "        amount=int(input(\"Enter amount you want to withdraw: \"))\n",
    "        if self.balance>amount:\n",
    "            self.balance=self.balance-amount\n",
    "            print(f\"Succesfully withdrawn {amount}\")\n",
    "        else:\n",
    "            print(\"Insufficient Balance\")\n",
    "        print(f\"Current balance: {self.balance}\")\n",
    "\n",
    "\n",
    "account1=BankAccount(1000)\n",
    "account1.withdraw()"
   ]
  }
 ],
 "metadata": {
  "kernelspec": {
   "display_name": "Python 3",
   "language": "python",
   "name": "python3"
  },
  "language_info": {
   "codemirror_mode": {
    "name": "ipython",
    "version": 3
   },
   "file_extension": ".py",
   "mimetype": "text/x-python",
   "name": "python",
   "nbconvert_exporter": "python",
   "pygments_lexer": "ipython3",
   "version": "3.12.1"
  }
 },
 "nbformat": 4,
 "nbformat_minor": 5
}
