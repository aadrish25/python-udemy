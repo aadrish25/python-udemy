{
 "cells": [
  {
   "cell_type": "code",
   "execution_count": null,
   "id": "c6975e38",
   "metadata": {},
   "outputs": [],
   "source": [
    "### Abstraction in OOP is the concept of hiding the complex implemenation details, and showing only necessary features of an object. "
   ]
  },
  {
   "cell_type": "code",
   "execution_count": 1,
   "id": "1ebdf0af",
   "metadata": {},
   "outputs": [],
   "source": [
    "## Abstraction with the help of abstract base class\n",
    "from abc import ABC,abstractmethod\n",
    "\n",
    "class Vehicle(ABC):\n",
    "\n",
    "# defining a function that may or may not be redefined in the child class\n",
    "    def vehiclePurpose(self):\n",
    "        print(\"Vehicle purpose: Transportation\")\n",
    "\n",
    "# defining an abstract method that has to be redefined in the child class\n",
    "\n",
    "    @abstractmethod\n",
    "    def vehicleEngine(self):\n",
    "        pass"
   ]
  },
  {
   "cell_type": "code",
   "execution_count": null,
   "id": "16e71c88",
   "metadata": {},
   "outputs": [],
   "source": [
    "# derived class\n",
    "class Car(Vehicle):\n",
    "\n",
    "    # redefining the abstract method\n",
    "    def vehicleEngine(self):\n",
    "        print(\"Engine type is petrol\")"
   ]
  },
  {
   "cell_type": "code",
   "execution_count": 3,
   "id": "9b17d393",
   "metadata": {},
   "outputs": [],
   "source": [
    "# while defining the abstract method in derived class, we need not know about any details of the method in the parent class, we can just define it according to our needs."
   ]
  }
 ],
 "metadata": {
  "kernelspec": {
   "display_name": "Python 3",
   "language": "python",
   "name": "python3"
  },
  "language_info": {
   "codemirror_mode": {
    "name": "ipython",
    "version": 3
   },
   "file_extension": ".py",
   "mimetype": "text/x-python",
   "name": "python",
   "nbconvert_exporter": "python",
   "pygments_lexer": "ipython3",
   "version": "3.12.10"
  }
 },
 "nbformat": 4,
 "nbformat_minor": 5
}
