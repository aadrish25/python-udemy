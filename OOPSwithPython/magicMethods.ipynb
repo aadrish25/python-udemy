{
 "cells": [
  {
   "cell_type": "code",
   "execution_count": 2,
   "id": "3b5467c7",
   "metadata": {},
   "outputs": [],
   "source": [
    "## Magic methods, also known as double underscore(dunder) methods. They are use to define default behaviour of objects such as built-in operations, arithmetic operations and\n",
    "# comparison operations.\n",
    "\n",
    "# magic methods are already predefined, and they can be used in classes to change the default behaviour of objects."
   ]
  },
  {
   "cell_type": "code",
   "execution_count": 4,
   "id": "ad1ddf36",
   "metadata": {},
   "outputs": [
    {
     "data": {
      "text/plain": [
       "['__class__',\n",
       " '__delattr__',\n",
       " '__dict__',\n",
       " '__dir__',\n",
       " '__doc__',\n",
       " '__eq__',\n",
       " '__format__',\n",
       " '__ge__',\n",
       " '__getattribute__',\n",
       " '__getstate__',\n",
       " '__gt__',\n",
       " '__hash__',\n",
       " '__init__',\n",
       " '__init_subclass__',\n",
       " '__le__',\n",
       " '__lt__',\n",
       " '__module__',\n",
       " '__ne__',\n",
       " '__new__',\n",
       " '__reduce__',\n",
       " '__reduce_ex__',\n",
       " '__repr__',\n",
       " '__setattr__',\n",
       " '__sizeof__',\n",
       " '__str__',\n",
       " '__subclasshook__',\n",
       " '__weakref__']"
      ]
     },
     "execution_count": 4,
     "metadata": {},
     "output_type": "execute_result"
    }
   ],
   "source": [
    "class Person:\n",
    "    pass\n",
    "\n",
    "dir(Person) # it shows all the magic methods by default in the class"
   ]
  },
  {
   "cell_type": "code",
   "execution_count": 6,
   "id": "04e12017",
   "metadata": {},
   "outputs": [
    {
     "name": "stdout",
     "output_type": "stream",
     "text": [
      "<__main__.Person object at 0x7ab3a4428230>\n"
     ]
    }
   ],
   "source": [
    "class Person:\n",
    "    def __init__(self,name,age):\n",
    "        self.name=name\n",
    "        self.age=age\n",
    "        \n",
    "person=Person(\"Aadrish\",21)\n",
    "\n",
    "# this will give us default string representation of an object \n",
    "print(person)"
   ]
  },
  {
   "cell_type": "code",
   "execution_count": null,
   "id": "63865fe8",
   "metadata": {},
   "outputs": [
    {
     "name": "stdout",
     "output_type": "stream",
     "text": [
      "Name: Aadrish, Age: 21\n"
     ]
    }
   ],
   "source": [
    "# overriding the default string representaion of object\n",
    "class Person:\n",
    "    def __init__(self,name,age):\n",
    "        self.name=name\n",
    "        self.age=age\n",
    "\n",
    "    # overiding the default string representation using, '__str__' magic method\n",
    "    def __str__(self):\n",
    "        return f\"Name: {self.name}, Age: {self.age}\"\n",
    "    \n",
    "    person=Person(\"Aadrish\",21)\n",
    "    \n",
    "    # now if we prin object, it will show us whatever we've defined\n",
    "    print(person)\n",
    "    "
   ]
  }
 ],
 "metadata": {
  "kernelspec": {
   "display_name": "Python 3",
   "language": "python",
   "name": "python3"
  },
  "language_info": {
   "codemirror_mode": {
    "name": "ipython",
    "version": 3
   },
   "file_extension": ".py",
   "mimetype": "text/x-python",
   "name": "python",
   "nbconvert_exporter": "python",
   "pygments_lexer": "ipython3",
   "version": "3.12.10"
  }
 },
 "nbformat": 4,
 "nbformat_minor": 5
}
