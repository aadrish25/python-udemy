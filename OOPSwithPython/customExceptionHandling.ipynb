{
 "cells": [
  {
   "cell_type": "code",
   "execution_count": 1,
   "id": "daee48bd",
   "metadata": {},
   "outputs": [],
   "source": [
    "## Custom Exception Handling"
   ]
  },
  {
   "cell_type": "code",
   "execution_count": 2,
   "id": "032ee62d",
   "metadata": {},
   "outputs": [],
   "source": [
    "class ageError(Exception):\n",
    "    pass"
   ]
  },
  {
   "cell_type": "code",
   "execution_count": null,
   "id": "94180ed0",
   "metadata": {},
   "outputs": [
    {
     "ename": "ageError",
     "evalue": "",
     "output_type": "error",
     "traceback": [
      "\u001b[31m---------------------------------------------------------------------------\u001b[39m",
      "\u001b[31mageError\u001b[39m                                  Traceback (most recent call last)",
      "\u001b[36mCell\u001b[39m\u001b[36m \u001b[39m\u001b[32mIn[4]\u001b[39m\u001b[32m, line 6\u001b[39m\n\u001b[32m      4\u001b[39m     \u001b[38;5;28mprint\u001b[39m(\u001b[33m\"\u001b[39m\u001b[33mYou are eligible to appear for the exam.\u001b[39m\u001b[33m\"\u001b[39m)\n\u001b[32m      5\u001b[39m \u001b[38;5;28;01melse\u001b[39;00m:\n\u001b[32m----> \u001b[39m\u001b[32m6\u001b[39m     \u001b[38;5;28;01mraise\u001b[39;00m ageError\n",
      "\u001b[31mageError\u001b[39m: "
     ]
    }
   ],
   "source": [
    "age=int(input(\"Please enter you age: \"))\n",
    "\n",
    "if age>=20 and age<=30:\n",
    "    print(\"You are eligible to appear for the exam.\")\n",
    "else:\n",
    "    raise ageError \n",
    "\n",
    "# but here, we are only raising the error.\n",
    "# we should handle the error gracefully using Exception Handling."
   ]
  },
  {
   "cell_type": "code",
   "execution_count": 5,
   "metadata": {},
   "outputs": [
    {
     "name": "stdout",
     "output_type": "stream",
     "text": [
      "Your age must be greater than 20 or less than 30.\n"
     ]
    }
   ],
   "source": [
    "# handling the age error\n",
    "age=int(input(\"Please enter you age: \"))\n",
    "\n",
    "try:\n",
    "    if age>=20 and age<=30:\n",
    "        print(\"You are eligible to appear for the exam.\")\n",
    "    else:\n",
    "        raise ageError\n",
    "except ageError:\n",
    "    print(\"Your age must be greater than 20 or less than 30.\")"
   ]
  }
 ],
 "metadata": {
  "kernelspec": {
   "display_name": "Python 3",
   "language": "python",
   "name": "python3"
  },
  "language_info": {
   "codemirror_mode": {
    "name": "ipython",
    "version": 3
   },
   "file_extension": ".py",
   "mimetype": "text/x-python",
   "name": "python",
   "nbconvert_exporter": "python",
   "pygments_lexer": "ipython3",
   "version": "3.12.10"
  }
 },
 "nbformat": 4,
 "nbformat_minor": 5
}
