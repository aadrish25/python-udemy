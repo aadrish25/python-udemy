{
 "cells": [
  {
   "cell_type": "code",
   "execution_count": 1,
   "id": "a9a815f7",
   "metadata": {},
   "outputs": [],
   "source": [
    "## Operator overloading allows you to change the behaviour of arithmatic or comparison operators in a class.\n",
    "# It can be achieved by overriding magic methods respective to the operators in the class."
   ]
  },
  {
   "cell_type": "code",
   "execution_count": null,
   "id": "e5022cc1",
   "metadata": {},
   "outputs": [
    {
     "name": "stdout",
     "output_type": "stream",
     "text": [
      "Resulting coordinate= (30,40)\n"
     ]
    }
   ],
   "source": [
    "class Vector:\n",
    "    def __init__(self,a,b):\n",
    "        self.a=a\n",
    "        self.b=b\n",
    "    \n",
    "    # overriding the addition operation within this class\n",
    "    # passing two objects as parameters\n",
    "    def __add__(self,other):\n",
    "        return f\"Resulting coordinate= ({self.a+other.a},{self.b+other.b})\"\n",
    "    \n",
    "vector1=Vector(a=10,b=15)\n",
    "vector2=Vector(a=20,b=25)\n",
    "\n",
    "resultVector=vector1+vector2\n",
    "print(resultVector)"
   ]
  },
  {
   "cell_type": "code",
   "execution_count": 7,
   "id": "931d0ea1",
   "metadata": {},
   "outputs": [
    {
     "name": "stdout",
     "output_type": "stream",
     "text": [
      "(1, -1)\n",
      "(30, 90)\n"
     ]
    }
   ],
   "source": [
    "## overriding other operations\n",
    "class Vector:\n",
    "    def __init__(self,a,b):\n",
    "        self.a=a\n",
    "        self.b=b\n",
    "\n",
    "    # overriding subtraction operation for this class\n",
    "    def __sub__(self,other):\n",
    "        return self.a-other.a,self.b-other.b\n",
    "    \n",
    "\n",
    "    # overriding the multiplication operation for this class\n",
    "    def __mul__(self,other):\n",
    "        return self.a*other.a,self.b*other.b\n",
    "    \n",
    "v1=Vector(a=5,b=10)\n",
    "v2=Vector(a=6,b=9)\n",
    "\n",
    "# calling '__sub__'\n",
    "subResult= v2-v1\n",
    "print(subResult)\n",
    "\n",
    "# calling '__mul__'\n",
    "mulResult=v1*v2\n",
    "print(mulResult)"
   ]
  },
  {
   "cell_type": "code",
   "execution_count": 8,
   "id": "a5f6af98",
   "metadata": {},
   "outputs": [],
   "source": [
    "## overriding operators for complex numbers\n",
    "\n",
    "class Complex:\n",
    "    def __init__(self,real,imaginary):\n",
    "        self.real=real\n",
    "        self.imaginary=imaginary\n",
    "\n",
    "    def __add__(self,other):\n",
    "        return f\"{self.real+other.real} + {self.imaginary+other.imaginary}i\"\n",
    "    \n",
    "    def __sub__(self,other):\n",
    "        return f\"{self.real-other.real} + {self.imaginary-other.imaginary}i\"\n",
    "    \n",
    "    def __mul__(self,other):\n",
    "        return f\"{self.real*other.real} + {self.imaginary*other.imaginary}i\"\n",
    "    \n",
    "    def __truediv__(self,other):\n",
    "        return f\"{self.real/other.real} + {self.imaginary/other.imaginary}i\""
   ]
  },
  {
   "cell_type": "code",
   "execution_count": 10,
   "id": "069a6f14",
   "metadata": {},
   "outputs": [
    {
     "name": "stdout",
     "output_type": "stream",
     "text": [
      "27 + 12i\n",
      "-3 + -2i\n",
      "180 + 35i\n",
      "0.8 + 0.7142857142857143i\n"
     ]
    }
   ],
   "source": [
    "complex1=Complex(real=12,imaginary=5)\n",
    "complex2=Complex(real=15,imaginary=7)\n",
    "\n",
    "# addition of two complex nos\n",
    "print(complex1+complex2)\n",
    "\n",
    "# subtraction of two complex nos\n",
    "print(complex1-complex2)\n",
    "\n",
    "# muliplication of two complex nos\n",
    "print(complex1*complex2)\n",
    "\n",
    "# division of twwo complex nos\n",
    "print(complex1/complex2)\n"
   ]
  }
 ],
 "metadata": {
  "kernelspec": {
   "display_name": "Python 3",
   "language": "python",
   "name": "python3"
  },
  "language_info": {
   "codemirror_mode": {
    "name": "ipython",
    "version": 3
   },
   "file_extension": ".py",
   "mimetype": "text/x-python",
   "name": "python",
   "nbconvert_exporter": "python",
   "pygments_lexer": "ipython3",
   "version": "3.12.10"
  }
 },
 "nbformat": 4,
 "nbformat_minor": 5
}
