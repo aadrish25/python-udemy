{
 "cells": [
  {
   "cell_type": "code",
   "execution_count": null,
   "id": "97acd507",
   "metadata": {},
   "outputs": [],
   "source": [
    "### Encapsulation=> concept of wrapping data(variables) and methods(functions) together as a single unit."
   ]
  },
  {
   "cell_type": "code",
   "execution_count": 3,
   "id": "79f67744",
   "metadata": {},
   "outputs": [],
   "source": [
    "# Public Access Modifier\n",
    "class Person:\n",
    "    def __init__(self,name):\n",
    "        self.name=name        # here, 'name' variable has public access, meaning they can be accessed from anywhere outside the class "
   ]
  },
  {
   "cell_type": "code",
   "execution_count": 7,
   "id": "14128476",
   "metadata": {},
   "outputs": [
    {
     "name": "stdout",
     "output_type": "stream",
     "text": [
      "Aadrish\n",
      "Toddy\n"
     ]
    }
   ],
   "source": [
    "person=Person(\"Aadrish\")\n",
    "print(person.name)  # see that we can directly access the 'name' variable, it has no restrictions\n",
    "\n",
    "person.name=\"Toddy\" # also, changing the value in the variable is possible from anywhere ouside the class\n",
    "print(person.name) "
   ]
  },
  {
   "cell_type": "code",
   "execution_count": 8,
   "id": "4c6cd758",
   "metadata": {},
   "outputs": [],
   "source": [
    "# Private Access Modifier\n",
    "class Employee:\n",
    "    def __init__(self,id,password,salary):\n",
    "        self.id=id                          # 'id' is a public variable, so anyone can view the id of an employee\n",
    "        self.__password=password            # 'password' is private variable, so access to this has been restricted\n",
    "        self.__salary=salary                # similarly, 'salary' has also been set a private variable, so it has restricted access\n",
    "        "
   ]
  },
  {
   "cell_type": "code",
   "execution_count": 11,
   "id": "28f4c853",
   "metadata": {},
   "outputs": [
    {
     "name": "stdout",
     "output_type": "stream",
     "text": [
      "101\n"
     ]
    },
    {
     "ename": "AttributeError",
     "evalue": "'Employee' object has no attribute '__password'",
     "output_type": "error",
     "traceback": [
      "\u001b[31m---------------------------------------------------------------------------\u001b[39m",
      "\u001b[31mAttributeError\u001b[39m                            Traceback (most recent call last)",
      "\u001b[36mCell\u001b[39m\u001b[36m \u001b[39m\u001b[32mIn[11]\u001b[39m\u001b[32m, line 6\u001b[39m\n\u001b[32m      3\u001b[39m \u001b[38;5;28mprint\u001b[39m(employee1.id)\n\u001b[32m      5\u001b[39m \u001b[38;5;66;03m# try to access the private variables from outside the class\u001b[39;00m\n\u001b[32m----> \u001b[39m\u001b[32m6\u001b[39m \u001b[38;5;28mprint\u001b[39m(\u001b[43memployee1\u001b[49m\u001b[43m.\u001b[49m\u001b[43m__password\u001b[49m)\n\u001b[32m      7\u001b[39m \u001b[38;5;28mprint\u001b[39m(employee1.__salary)\n\u001b[32m      9\u001b[39m \u001b[38;5;66;03m#'id' will be printed, but 'password' and 'salary' will throw attribute error, since they have been set as private and are unaccessible from outside the class\u001b[39;00m\n",
      "\u001b[31mAttributeError\u001b[39m: 'Employee' object has no attribute '__password'"
     ]
    }
   ],
   "source": [
    "employee1=Employee(id=101,password=\"1234@\",salary=1000)\n",
    "# try to access the public variable from outside the class\n",
    "print(employee1.id)\n",
    "\n",
    "# try to access the private variables from outside the class\n",
    "print(employee1.__password)\n",
    "print(employee1.__salary)\n",
    "\n",
    "#'id' will be printed, but 'password' and 'salary' will throw attribute error, since they have been set as private and are unaccessible from outside the class"
   ]
  },
  {
   "cell_type": "code",
   "execution_count": 17,
   "id": "bee18273",
   "metadata": {},
   "outputs": [],
   "source": [
    "# Protected Access Modifier\n",
    "class Person:\n",
    "    def __init__(self,name,age,gender):\n",
    "        self.name=name          # setting its access to public\n",
    "        self._age=age           # setting its access to protected\n",
    "        self._gender=gender     # setting its access to protected\n",
    "\n",
    "class Employee(Person):\n",
    "    def __init__(self, name, age, gender):\n",
    "        super().__init__(name, age, gender)   \n",
    "        "
   ]
  },
  {
   "cell_type": "code",
   "execution_count": 19,
   "id": "bea1c2ef",
   "metadata": {},
   "outputs": [
    {
     "name": "stdout",
     "output_type": "stream",
     "text": [
      "21\n",
      "21\n"
     ]
    }
   ],
   "source": [
    "# try to access the protected variable from the main class\n",
    "person=Person(name=\"Aadrish\",age=21,gender=\"M\")\n",
    "print(person._age)  # accessing protected members from the main class is possible, but it is highly discouraged\n",
    "\n",
    "# try to access the protected variable from derived class\n",
    "employee=Employee(name=\"Toddy\",age=21,gender=\"M\")\n",
    "print(employee._age)  # protected members of a parent class, must only be accessed by their child classes"
   ]
  },
  {
   "cell_type": "code",
   "execution_count": 20,
   "id": "41342757",
   "metadata": {},
   "outputs": [],
   "source": [
    "### Summary:\n",
    "# public variables => accessible from anywhere\n",
    "# private variables => can only be accessed from within the class; not even accessible in the derived class\n",
    "# protected variables => can be accessed from the main class, but it is not recommended; we should use a derived class to access the protected variables"
   ]
  },
  {
   "cell_type": "code",
   "execution_count": 21,
   "id": "a7397956",
   "metadata": {},
   "outputs": [],
   "source": [
    "## Getter and Setter methods\n",
    "# to view the private variables decalred within the class-> getter\n",
    "# to assign values to the private variables declared within the class-> setter "
   ]
  },
  {
   "cell_type": "code",
   "execution_count": null,
   "id": "41caed31",
   "metadata": {},
   "outputs": [],
   "source": [
    "class Employee:\n",
    "    def __init__(self,name,age,salary,city):\n",
    "        self.__name=name\n",
    "        self.__age=age\n",
    "        self.__salary=salary\n",
    "        self.__city=city\n",
    "\n",
    "    # Getter method to view employee details\n",
    "    def getEmployeeDetails(self):\n",
    "        print(f\"Employee Name: {self.__name}\")\n",
    "        print(f\"Employee Age: {self.__age}\")\n",
    "        print(f\"Employee City: {self.__city}\")\n",
    "        print(f\"Employee Salary: {self.__salary}\")\n",
    "\n",
    "    # Setter method to set the employee details\n",
    "    def updateEmployeeDetails(self,age,salary):\n",
    "        self.__salary=salary\n",
    "        self.__age=age"
   ]
  },
  {
   "cell_type": "code",
   "execution_count": 25,
   "id": "119e61b8",
   "metadata": {},
   "outputs": [
    {
     "name": "stdout",
     "output_type": "stream",
     "text": [
      "Employee Name: Aadrish\n",
      "Employee Age: 21\n",
      "Employee City: Kolkata\n",
      "Employee Salary: 2000\n",
      "Employee Name: Aadrish\n",
      "Employee Age: 22\n",
      "Employee City: Kolkata\n",
      "Employee Salary: 3000\n"
     ]
    }
   ],
   "source": [
    "employee=Employee(name=\"Aadrish\",age=21,city=\"Kolkata\",salary=2000)\n",
    "\n",
    "# viewing the private variables from outside the class using getter method \n",
    "employee.getEmployeeDetails()\n",
    "\n",
    "# updating values of private variables from outside the class using setter method\n",
    "employee.updateEmployeeDetails(age=22,salary=3000)\n",
    "employee.getEmployeeDetails()"
   ]
  }
 ],
 "metadata": {
  "kernelspec": {
   "display_name": "Python 3",
   "language": "python",
   "name": "python3"
  },
  "language_info": {
   "codemirror_mode": {
    "name": "ipython",
    "version": 3
   },
   "file_extension": ".py",
   "mimetype": "text/x-python",
   "name": "python",
   "nbconvert_exporter": "python",
   "pygments_lexer": "ipython3",
   "version": "3.12.10"
  }
 },
 "nbformat": 4,
 "nbformat_minor": 5
}
