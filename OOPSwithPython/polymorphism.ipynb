{
 "cells": [
  {
   "cell_type": "code",
   "execution_count": null,
   "id": "5e29fc8e",
   "metadata": {},
   "outputs": [],
   "source": [
    "## Method overriding is the specific implementation of a method in the child class, which is already defined in the parent class. "
   ]
  },
  {
   "cell_type": "code",
   "execution_count": null,
   "id": "647b5c88",
   "metadata": {},
   "outputs": [],
   "source": [
    "# Base class\n",
    "class Animal:\n",
    "    # defining a method in the parent class\n",
    "    def animalSound(self):\n",
    "        print(\"This is animal sound\")  "
   ]
  },
  {
   "cell_type": "code",
   "execution_count": 2,
   "id": "a300ab00",
   "metadata": {},
   "outputs": [],
   "source": [
    "# Derived class\n",
    "class Dog(Animal):\n",
    "    # redefining the same method in derived class, which performs different function than it did in the parent class\n",
    "    def animalSound(self):\n",
    "        print(\"Dog says woof!\") "
   ]
  },
  {
   "cell_type": "code",
   "execution_count": 3,
   "id": "1ce06950",
   "metadata": {},
   "outputs": [],
   "source": [
    "# Derived class 2\n",
    "class Cat(Animal):\n",
    "    # again redefining the method from the parent class\n",
    "    def animalSound(self):\n",
    "        print(\"Cat says meow\")"
   ]
  },
  {
   "cell_type": "code",
   "execution_count": null,
   "id": "ca3de293",
   "metadata": {},
   "outputs": [
    {
     "name": "stdout",
     "output_type": "stream",
     "text": [
      "Dog says woof!\n",
      "Cat says meow\n"
     ]
    }
   ],
   "source": [
    "dog=Dog()\n",
    "dog.animalSound() \n",
    "cat=Cat()\n",
    "cat.animalSound()\n",
    "\n",
    "# the overridden method performs the respective tasks from the respective classes."
   ]
  },
  {
   "cell_type": "code",
   "execution_count": 6,
   "id": "f1125708",
   "metadata": {},
   "outputs": [
    {
     "name": "stdout",
     "output_type": "stream",
     "text": [
      "Dog says woof!\n"
     ]
    }
   ],
   "source": [
    "## Passing an object as a parameter to a function\n",
    "\n",
    "def animal_speak(animal): # this is a normal function\n",
    "    animal.animalSound() # here the parameter to be passed is an object\n",
    "\n",
    "dog2=Dog()\n",
    "animal_speak(dog2) # inside the function, animal=dog2"
   ]
  },
  {
   "cell_type": "code",
   "execution_count": 8,
   "id": "e5ed11fa",
   "metadata": {},
   "outputs": [],
   "source": [
    "## Example of polymorphism with methods and functionss\n",
    "# Base Class\n",
    "class Shape:\n",
    "    def area(self):\n",
    "        return \"Area of the shape\""
   ]
  },
  {
   "cell_type": "code",
   "execution_count": null,
   "id": "ffb98278",
   "metadata": {},
   "outputs": [],
   "source": [
    "# Derived Class 1\n",
    "class Rectangle(Shape):\n",
    "    def __init__(self,length,width):\n",
    "        self.length=length\n",
    "        self.width=width\n",
    "\n",
    "    def area(self):  # overriding area function from parent class\n",
    "        return self.length * self.width \n",
    "\n",
    "# Derived Class 2\n",
    "class Circle(Shape):\n",
    "    def __init__(self,radius):\n",
    "        self.radius=radius\n",
    "\n",
    "    def area(self):  # overriding area function from parent class\n",
    "        return 3.14 * self.radius * self.radius"
   ]
  },
  {
   "cell_type": "code",
   "execution_count": 14,
   "id": "48b59369",
   "metadata": {},
   "outputs": [
    {
     "name": "stdout",
     "output_type": "stream",
     "text": [
      "50\n",
      "314.0\n"
     ]
    }
   ],
   "source": [
    "# normal function to find out the area\n",
    "\n",
    "def getArea(shape): # passing object as a parameter\n",
    "    return shape.area()\n",
    "\n",
    "rec=Rectangle(length=10,width=5)\n",
    "print(getArea(rec))  # in getArea func, shape=rec\n",
    "\n",
    "cir=Circle(radius=10)\n",
    "print(getArea(cir)) # in getArea func, shape=cir"
   ]
  },
  {
   "cell_type": "code",
   "execution_count": null,
   "id": "e7d0226b",
   "metadata": {},
   "outputs": [],
   "source": [
    "## Polymorphism with abstract base classes\n",
    "# Abstract classes are provided in python in order to form an interface for its subclasses. And abstract methods are defined within the abstract class, \n",
    "# so that these methods can be redefined in derived classes according to their needs."
   ]
  },
  {
   "cell_type": "code",
   "execution_count": 16,
   "id": "692c4854",
   "metadata": {},
   "outputs": [],
   "source": [
    "from abc import ABC, abstractmethod # ABC= Absract Base Class\n",
    "\n",
    "class Vehicle(ABC):\n",
    "\n",
    "    @abstractmethod\n",
    "    def vehicleDetails(self):   \n",
    "        pass                    # since it is an abstract method, so it must be empty.\n",
    "                                # an abstract class cannot be called directly from parent class.\n",
    "                                # it will be redefined in the derived classes.\n",
    "    \n",
    "\n",
    "    def vehiclePurpose(self):\n",
    "        return \"Transportation\"  # this is also called a concrete method\n",
    "                                 # a concrete method can be called directly from the parent class, without redefining in the derived class\n",
    "                                 # as well as, it can also be redefined in the derived class"
   ]
  },
  {
   "cell_type": "code",
   "execution_count": 20,
   "id": "6f437921",
   "metadata": {},
   "outputs": [],
   "source": [
    "# Derived Class 1\n",
    "class Car(Vehicle):\n",
    "\n",
    "    def __init__(self,carNo,carOwner,carModel):\n",
    "        self.carNo=carNo\n",
    "        self.carOwner=carOwner\n",
    "        self.carModel=carModel\n",
    "\n",
    "    # redefinition of the abstract method\n",
    "    def vehicleDetails(self):\n",
    "        print(f\"Car Owner: {self.carOwner}\")\n",
    "        print(f\"Car Number: {self.carNo}\")\n",
    "        print(f\"Car Model: {self.carModel}\")"
   ]
  },
  {
   "cell_type": "code",
   "execution_count": 21,
   "id": "9c3cf189",
   "metadata": {},
   "outputs": [],
   "source": [
    "# Derived Class 2\n",
    "class Bus(Vehicle):\n",
    "\n",
    "    def __init__(self,busNo,busOwner,busRouteNo):\n",
    "        self.busNo=busNo\n",
    "        self.busOwner=busOwner\n",
    "        self.busRouteNo=busRouteNo\n",
    "\n",
    "    # redefinition of abstract base class\n",
    "    def vehicleDetails(self):\n",
    "        print(f\"Bus Owner: {self.busOwner}\")\n",
    "        print(f\"Bus Number: {self.busNo}\")\n",
    "        print(f\"Bus Route Number: {self.busRouteNo}\")\n",
    "\n",
    "    # redefinition of concrete class\n",
    "    def vehiclePurpose(self):\n",
    "        return \"Transportation of daily passengers\"\n"
   ]
  },
  {
   "cell_type": "code",
   "execution_count": 22,
   "id": "d6174c68",
   "metadata": {},
   "outputs": [
    {
     "name": "stdout",
     "output_type": "stream",
     "text": [
      "Car Owner: Toddy\n",
      "Car Number: 5614\n",
      "Car Model: Tesla\n"
     ]
    },
    {
     "data": {
      "text/plain": [
       "'Transportation'"
      ]
     },
     "execution_count": 22,
     "metadata": {},
     "output_type": "execute_result"
    }
   ],
   "source": [
    "car = Car(carNo=5614, carOwner=\"Toddy\",carModel=\"Tesla\")\n",
    "car.vehicleDetails() # calling the redefined abstract class\n",
    "car.vehiclePurpose() # calling the concrete class which has not been redefined"
   ]
  },
  {
   "cell_type": "code",
   "execution_count": 23,
   "id": "273b123b",
   "metadata": {},
   "outputs": [
    {
     "name": "stdout",
     "output_type": "stream",
     "text": [
      "Bus Owner: State Government\n",
      "Bus Number: 7811\n",
      "Bus Route Number: 32A\n"
     ]
    },
    {
     "data": {
      "text/plain": [
       "'Transportation of daily passengers'"
      ]
     },
     "execution_count": 23,
     "metadata": {},
     "output_type": "execute_result"
    }
   ],
   "source": [
    "bus = Bus(busNo= 7811, busOwner=\"State Government\", busRouteNo=\"32A\")\n",
    "bus.vehicleDetails()\n",
    "bus.vehiclePurpose() # calling the concrete class which has been redefined in this derived class"
   ]
  }
 ],
 "metadata": {
  "kernelspec": {
   "display_name": "Python 3",
   "language": "python",
   "name": "python3"
  },
  "language_info": {
   "codemirror_mode": {
    "name": "ipython",
    "version": 3
   },
   "file_extension": ".py",
   "mimetype": "text/x-python",
   "name": "python",
   "nbconvert_exporter": "python",
   "pygments_lexer": "ipython3",
   "version": "3.12.10"
  }
 },
 "nbformat": 4,
 "nbformat_minor": 5
}
