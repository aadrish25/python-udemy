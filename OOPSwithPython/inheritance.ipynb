{
 "cells": [
  {
   "cell_type": "code",
   "execution_count": 1,
   "id": "7e233c36",
   "metadata": {},
   "outputs": [],
   "source": [
    "## Inheritance is a property in OOP, which allows a class to inherit from a base class or parent class. All attributes and methods of the base class are passed onto the parent class."
   ]
  },
  {
   "cell_type": "code",
   "execution_count": 6,
   "id": "9733ee33",
   "metadata": {},
   "outputs": [],
   "source": [
    "class Car:\n",
    "    def __init__(self,windows,doors,engineType):\n",
    "        self.windows=windows\n",
    "        self.doors=doors\n",
    "        self.engineType=engineType\n",
    "\n",
    "    def driveCar(self):\n",
    "        print(f\"Person is driving the {self.engineType} car\")\n"
   ]
  },
  {
   "cell_type": "code",
   "execution_count": 7,
   "id": "6ab9ca77",
   "metadata": {},
   "outputs": [
    {
     "name": "stdout",
     "output_type": "stream",
     "text": [
      "Person is driving the Electric car\n"
     ]
    }
   ],
   "source": [
    "car1=Car(4,4,\"Electric\")\n",
    "car1.driveCar()"
   ]
  },
  {
   "cell_type": "code",
   "execution_count": null,
   "id": "182969b9",
   "metadata": {},
   "outputs": [],
   "source": [
    "class Tesla(Car): # Tesla inherits from Car class\n",
    "    def __init__(self,windows,doors,engineType,isSelfDriving):\n",
    "        super().__init__(windows,doors,engineType)  # Calling the constructor function from parent class Car, so that I don't have to initialize the same instance variables again\n",
    "        self.isSelfDriving=isSelfDriving # additional instance variable can be defined\n",
    "\n",
    "    def selfDriving(self):\n",
    "        if self.isSelfDriving:\n",
    "            print(f\"Tesla supports self driving : {self.isSelfDriving}\")\n",
    "        else:\n",
    "            super().driveCar() # calling a method from the parent class using super keyword\n"
   ]
  },
  {
   "cell_type": "code",
   "execution_count": 23,
   "id": "396bcb26",
   "metadata": {},
   "outputs": [
    {
     "name": "stdout",
     "output_type": "stream",
     "text": [
      "True\n",
      "Tesla supports self driving : True\n",
      "Person is driving the Electric car\n",
      "Person is driving the Electric car\n"
     ]
    }
   ],
   "source": [
    "tesla1=Tesla(4,4,\"Electric\",True)\n",
    "print(tesla1.isSelfDriving)\n",
    "tesla1.selfDriving()\n",
    "\n",
    "tesla2=Tesla(2,2,\"Electric\",False)\n",
    "tesla2.selfDriving()\n",
    "\n",
    "tesla2.driveCar() # method from the parent class can also be called by the child class directly"
   ]
  },
  {
   "cell_type": "code",
   "execution_count": 24,
   "id": "6670eb81",
   "metadata": {},
   "outputs": [],
   "source": [
    "### Multiple Inheritance: A single child class can derive from two parent classes"
   ]
  },
  {
   "cell_type": "code",
   "execution_count": 27,
   "id": "d225e88b",
   "metadata": {},
   "outputs": [],
   "source": [
    "## Base class 1\n",
    "\n",
    "class Animal:\n",
    "    def __init__(self,animalName):\n",
    "        self.animalName=animalName\n",
    "        \n",
    "    def animalType(self):\n",
    "        print(f\"This is a {self.animalName}\")\n",
    "        "
   ]
  },
  {
   "cell_type": "code",
   "execution_count": 36,
   "id": "546a4e36",
   "metadata": {},
   "outputs": [],
   "source": [
    "## Base class 2\n",
    "class Species:\n",
    "    def __init__(self,speciesName):\n",
    "        self.speciesName=speciesName\n",
    "        \n",
    "    def getSpecies(self):\n",
    "        print(f\"This animal from {self.speciesName} breed\")"
   ]
  },
  {
   "cell_type": "code",
   "execution_count": 38,
   "id": "557143dc",
   "metadata": {},
   "outputs": [],
   "source": [
    "## Child class\n",
    "class Pet(Animal, Species):\n",
    "    def __init__(self,animalName,speciesName,ownerName):\n",
    "        Animal.__init__(self,animalName)  # calling constructor of Animal class to initialize animal name\n",
    "        Species.__init__(self,speciesName) # calling constructor of Species class to initialize species name\n",
    "        \n",
    "        # here super() cannot be used to refer to parent class, since there are multiple parent classes\n",
    "        \n",
    "        self.ownerName=ownerName\n",
    "        \n",
    "    def showPetDetails(self):\n",
    "        Animal.animalType(self) # calling method of parent 1\n",
    "        Species.getSpecies(self) # calling method of parent 2\n",
    "        \n",
    "        ## here also we cannot use super() keyword, since there are multiple parents, and we must refer to hem individually\n",
    "        \n",
    "        print(f\"Owner's Name is: {self.ownerName}\")\n",
    "        \n",
    "        "
   ]
  },
  {
   "cell_type": "code",
   "execution_count": 40,
   "id": "77f1dbab",
   "metadata": {},
   "outputs": [
    {
     "name": "stdout",
     "output_type": "stream",
     "text": [
      "This is a Dog\n",
      "This animal from Beagle breed\n",
      "Owner's Name is: Toddy\n",
      "This animal from Beagle breed\n",
      "This is a Dog\n"
     ]
    }
   ],
   "source": [
    "pet1=Pet(animalName=\"Dog\",speciesName=\"Beagle\", ownerName=\"Toddy\")\n",
    "pet1.showPetDetails() # calling method of child class\n",
    "\n",
    "pet1.getSpecies() # calling method of parent 2\n",
    "pet1.animalType() # calling method of parent 1"
   ]
  }
 ],
 "metadata": {
  "kernelspec": {
   "display_name": "Python 3",
   "language": "python",
   "name": "python3"
  },
  "language_info": {
   "codemirror_mode": {
    "name": "ipython",
    "version": 3
   },
   "file_extension": ".py",
   "mimetype": "text/x-python",
   "name": "python",
   "nbconvert_exporter": "python",
   "pygments_lexer": "ipython3",
   "version": "3.12.10"
  }
 },
 "nbformat": 4,
 "nbformat_minor": 5
}
