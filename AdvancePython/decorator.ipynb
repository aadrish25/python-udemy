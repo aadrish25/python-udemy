{
 "cells": [
  {
   "cell_type": "code",
   "execution_count": 16,
   "id": "28c41660",
   "metadata": {},
   "outputs": [
    {
     "data": {
      "text/plain": [
       "'Welcome to my github'"
      ]
     },
     "execution_count": 16,
     "metadata": {},
     "output_type": "execute_result"
    }
   ],
   "source": [
    "# Function copy\n",
    "def welcome():\n",
    "    return\"Welcome to my github\"\n",
    "\n",
    "welcome() # this is how we normally call a function"
   ]
  },
  {
   "cell_type": "code",
   "execution_count": 17,
   "id": "99a1322b",
   "metadata": {},
   "outputs": [
    {
     "name": "stdout",
     "output_type": "stream",
     "text": [
      "Welcome to my github\n",
      "Welcome to my github\n"
     ]
    }
   ],
   "source": [
    "wel1=welcome # and this is how we are copying the function 'welcome' into another variable\n",
    "print(wel1())\n",
    "\n",
    "# even if we delete the original function\n",
    "del welcome\n",
    "\n",
    "# we are still able to access it, since we have a copy saved in 'wel1'\n",
    "print(wel1())"
   ]
  },
  {
   "cell_type": "code",
   "execution_count": 19,
   "id": "6226811a",
   "metadata": {},
   "outputs": [],
   "source": [
    "# Function closures -> function within another function\n",
    "\n",
    "def mainWelcome(msg):\n",
    "    def subWelcome():\n",
    "        print(\"Welcome to python course\")\n",
    "        print(\"These concepts are important\")\n",
    "        print(msg)\n",
    "    return subWelcome()\n",
    "\n",
    "# 'subWelcome' is a method inside another method, and the 'mainWelcome' method returns the 'subWelcome' method\n",
    "# means that if we execute 'mainWelcome', 'subWelcome' will be automatically executed \n",
    "    "
   ]
  },
  {
   "cell_type": "code",
   "execution_count": 20,
   "id": "c0e1c4ce",
   "metadata": {},
   "outputs": [
    {
     "name": "stdout",
     "output_type": "stream",
     "text": [
      "Welcome to python course\n",
      "These concepts are important\n",
      "Helllo!!!\n"
     ]
    }
   ],
   "source": [
    "mainWelcome(\"Helllo!!!\")"
   ]
  },
  {
   "cell_type": "code",
   "execution_count": 21,
   "id": "9678689e",
   "metadata": {},
   "outputs": [],
   "source": [
    "# passing another function as a parameter\n",
    "\n",
    "def finalResult(fun,a,b):\n",
    "    def calculateResult():\n",
    "        return fun(a,b)\n",
    "    return calculateResult()\n",
    "\n",
    "def add(a,b):\n",
    "    return a+b"
   ]
  },
  {
   "cell_type": "code",
   "execution_count": 22,
   "id": "e3a6a1c0",
   "metadata": {},
   "outputs": [
    {
     "data": {
      "text/plain": [
       "7"
      ]
     },
     "execution_count": 22,
     "metadata": {},
     "output_type": "execute_result"
    }
   ],
   "source": [
    "finalResult(add,3,4)"
   ]
  },
  {
   "cell_type": "code",
   "execution_count": 23,
   "id": "c2f8d945",
   "metadata": {},
   "outputs": [],
   "source": [
    "## Decorators-> used to modify the behaviour of a function or method, without changing the code of the function"
   ]
  },
  {
   "cell_type": "code",
   "execution_count": null,
   "id": "28127e9d",
   "metadata": {},
   "outputs": [],
   "source": [
    "def welcomeMessage(func):\n",
    "    def welcome():\n",
    "        print(\"Welcome to this course\")\n",
    "        func()\n",
    "    return welcome()\n",
    "\n",
    "# naturally here, 'welcomeMessage' takes a function as parameter"
   ]
  },
  {
   "cell_type": "code",
   "execution_count": 25,
   "id": "bb1963c2",
   "metadata": {},
   "outputs": [
    {
     "name": "stdout",
     "output_type": "stream",
     "text": [
      "Welcome to this course\n",
      "Learn and Grow!!\n"
     ]
    }
   ],
   "source": [
    "def greet():\n",
    "    print(\"Learn and Grow!!\")\n",
    "\n",
    "# in order to pass this function as parameter in 'welcomeMessage', I need to call the function and pass it\n",
    "\n",
    "welcomeMessage(greet)"
   ]
  },
  {
   "cell_type": "code",
   "execution_count": 29,
   "id": "9672a92a",
   "metadata": {},
   "outputs": [
    {
     "name": "stdout",
     "output_type": "stream",
     "text": [
      "Welcome to this course\n",
      "Learn and Grow!!!\n"
     ]
    }
   ],
   "source": [
    "# but the same functionality can also be achieved by decorators.\n",
    "@welcomeMessage\n",
    "def greet():\n",
    "    print(\"Learn and Grow!!!\")\n",
    "\n",
    "# now the 'greet' function is automatically passed as a parameter to 'welcomeMessage', as we apply it as a decorator\n",
    "# so over here, we are not modifying the actual code of the 'welcomeMessage' function, but we can change its functionality."
   ]
  },
  {
   "cell_type": "code",
   "execution_count": 50,
   "id": "91a5d43c",
   "metadata": {},
   "outputs": [],
   "source": [
    "# decorator with arguments\n",
    "def finalResult(num):\n",
    "    def decorator(fun):\n",
    "        def calculateResult():\n",
    "            return fun(num)\n",
    "        return calculateResult\n",
    "    return decorator"
   ]
  },
  {
   "cell_type": "code",
   "execution_count": 55,
   "id": "70f777fd",
   "metadata": {},
   "outputs": [
    {
     "data": {
      "text/plain": [
       "16"
      ]
     },
     "execution_count": 55,
     "metadata": {},
     "output_type": "execute_result"
    }
   ],
   "source": [
    "@finalResult(num=4)\n",
    "def square(a):\n",
    "    return a*a\n",
    "\n",
    "square()"
   ]
  }
 ],
 "metadata": {
  "kernelspec": {
   "display_name": "Python 3",
   "language": "python",
   "name": "python3"
  },
  "language_info": {
   "codemirror_mode": {
    "name": "ipython",
    "version": 3
   },
   "file_extension": ".py",
   "mimetype": "text/x-python",
   "name": "python",
   "nbconvert_exporter": "python",
   "pygments_lexer": "ipython3",
   "version": "3.12.10"
  }
 },
 "nbformat": 4,
 "nbformat_minor": 5
}
