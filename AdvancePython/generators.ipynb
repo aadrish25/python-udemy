{
 "cells": [
  {
   "cell_type": "code",
   "execution_count": null,
   "id": "d239c716",
   "metadata": {},
   "outputs": [],
   "source": [
    "# generators are a simpler way to create iterators."
   ]
  },
  {
   "cell_type": "code",
   "execution_count": 1,
   "id": "91f7234b",
   "metadata": {},
   "outputs": [],
   "source": [
    "def square():\n",
    "    for i in range(3):\n",
    "        return i**2\n",
    "    \n",
    "# this will run the iteration for only one number and return the value, i=0**2=0"
   ]
  },
  {
   "cell_type": "code",
   "execution_count": null,
   "id": "45780e44",
   "metadata": {},
   "outputs": [
    {
     "data": {
      "text/plain": [
       "0"
      ]
     },
     "execution_count": 2,
     "metadata": {},
     "output_type": "execute_result"
    }
   ],
   "source": [
    "square() # notice that it returns 0"
   ]
  },
  {
   "cell_type": "code",
   "execution_count": 20,
   "id": "55a02d71",
   "metadata": {},
   "outputs": [],
   "source": [
    "def square():\n",
    "    for i in range(3):\n",
    "        yield i**2\n",
    "\n",
    "# this creates a generator, which means it runs the iteration, it gives a value and pauses the function until we ask for next one"
   ]
  },
  {
   "cell_type": "code",
   "execution_count": 21,
   "id": "3c55f348",
   "metadata": {},
   "outputs": [
    {
     "name": "stdout",
     "output_type": "stream",
     "text": [
      "0\n",
      "1\n",
      "4\n"
     ]
    }
   ],
   "source": [
    "squares=square()\n",
    "print(next(squares)) # get the square value at 1st iteration, i=0\n",
    "print(next(squares)) # get the square value at 2nd iteration, i=1\n",
    "print(next(squares)) # get the square value at 3rd iteration, i=2"
   ]
  },
  {
   "cell_type": "code",
   "execution_count": 22,
   "id": "69394139",
   "metadata": {},
   "outputs": [
    {
     "name": "stdout",
     "output_type": "stream",
     "text": [
      "0\n",
      "1\n",
      "4\n"
     ]
    }
   ],
   "source": [
    "# it can also be achieved by looping\n",
    "for num in square():\n",
    "    print(num)"
   ]
  },
  {
   "cell_type": "code",
   "execution_count": 23,
   "id": "14f504fa",
   "metadata": {},
   "outputs": [],
   "source": [
    "# so now you understand the use of yield keyword; it stores the result of a function temporarily until you ask for the next result"
   ]
  },
  {
   "cell_type": "code",
   "execution_count": 25,
   "id": "7c4d6823",
   "metadata": {},
   "outputs": [],
   "source": [
    "# yield keyword can also be used to return multiple values, from a function.\n",
    "\n",
    "def genFun():\n",
    "    yield 1\n",
    "    yield 2\n",
    "    yield 3"
   ]
  },
  {
   "cell_type": "code",
   "execution_count": 26,
   "id": "6dee2f27",
   "metadata": {},
   "outputs": [
    {
     "name": "stdout",
     "output_type": "stream",
     "text": [
      "1\n",
      "2\n",
      "3\n"
     ]
    }
   ],
   "source": [
    "gen=genFun()\n",
    "print(next(gen)) # will print first value, yield 1\n",
    "print(next(gen)) # will print second value, yield 2\n",
    "print(next(gen)) # will print last value, yield 3"
   ]
  },
  {
   "cell_type": "code",
   "execution_count": 27,
   "id": "e9f4b070",
   "metadata": {},
   "outputs": [
    {
     "name": "stdout",
     "output_type": "stream",
     "text": [
      "1\n",
      "2\n",
      "3\n"
     ]
    }
   ],
   "source": [
    "# also by looping\n",
    "for generator in genFun():\n",
    "    print(generator)"
   ]
  },
  {
   "cell_type": "code",
   "execution_count": 28,
   "id": "cc56c130",
   "metadata": {},
   "outputs": [],
   "source": [
    "### Real world use case of generators: Reading large files, without loading the whole file into memory."
   ]
  },
  {
   "cell_type": "code",
   "execution_count": 29,
   "id": "bf0e0c37",
   "metadata": {},
   "outputs": [],
   "source": [
    "def readLargeFile(filePath):\n",
    "    with open(filePath,\"r\") as file:\n",
    "        for line in file:\n",
    "            yield line              \n",
    "\n",
    "# in this way, it will give us a single line from the file each time we call the function, and it will avoid printing the whole file at once"
   ]
  },
  {
   "cell_type": "code",
   "execution_count": 30,
   "id": "69104110",
   "metadata": {},
   "outputs": [
    {
     "name": "stdout",
     "output_type": "stream",
     "text": [
      "In a world increasingly dominated by technology, artificial intelligence (AI) stands as a powerful tool that holds immense potential to shape our future. \n",
      "\n",
      "Yet, the narrative surrounding AI often focuses on its potential perils, from job displacement to privacy concerns. \n",
      "\n",
      "This the series, however, seeks to shift that narrative and explore the transformative power of AI in creating a more equitable, just, and sustainable world.\n",
      "\n"
     ]
    }
   ],
   "source": [
    "file_path=\"largeFile.txt\"\n",
    "textLine=readLargeFile(file_path)\n",
    "\n",
    "print(next(textLine)) # prints the 1st line from the file\n",
    "print(next(textLine)) # prints the 2nd line from the file\n",
    "print(next(textLine)) # prints the 3rd line from the file"
   ]
  },
  {
   "cell_type": "code",
   "execution_count": 31,
   "id": "5a42680b",
   "metadata": {},
   "outputs": [
    {
     "name": "stdout",
     "output_type": "stream",
     "text": [
      "In a world increasingly dominated by technology, artificial intelligence (AI) stands as a powerful tool that holds immense potential to shape our future. \n",
      "\n",
      "Yet, the narrative surrounding AI often focuses on its potential perils, from job displacement to privacy concerns. \n",
      "\n",
      "This the series, however, seeks to shift that narrative and explore the transformative power of AI in creating a more equitable, just, and sustainable world.\n",
      "\n",
      "\n",
      "\n",
      "“AI for Social Good: Building the Future with AI” delves into the concept of harnessing AI technologies not for profit or convenience, but for the benefit of society. \n",
      "\n",
      "It explores how AI can be used to address some of the most pressing challenges of our time, from climate change and healthcare disparities to education and poverty. \n",
      "\n",
      "The series presents an optimistic and forward-thinking perspective on AI, encouraging readers to see it not as a threat, but as a tool for positive change.\n",
      "\n",
      "\n",
      "\n",
      "This series is not just about the technology behind AI, but about the humans who use, shape, and are affected by it. \n",
      "\n",
      "It aims to inspire technologists, policymakers, business leaders, and everyday citizens to think critically about how we can use AI to improve our world. \n",
      "\n",
      "Through real-world examples, expert insights, and practical guidance, this the series provides a roadmap for those who seek to use AI as a force for good.\n",
      "\n",
      "\n",
      "\n",
      "As you browse through the pages, you will discover that “AI for Social Good: Building the Future with AI” is more than just the series; it’s a call to action. \n",
      "\n",
      "It invites us all to take an active role in shaping the future of AI, ensuring that it is used to create a world that is better for everyone. \n",
      "\n",
      "It’s time to redefine our relationship with technology and reimagine its potential for social good. \n",
      "\n",
      "Welcome to a new era of AI, an era where technology serves humanity, not the other way around.\n"
     ]
    }
   ],
   "source": [
    "# it can also be achieved by loops.\n",
    "for line in readLargeFile(file_path):\n",
    "    print(line)"
   ]
  }
 ],
 "metadata": {
  "kernelspec": {
   "display_name": "Python 3",
   "language": "python",
   "name": "python3"
  },
  "language_info": {
   "codemirror_mode": {
    "name": "ipython",
    "version": 3
   },
   "file_extension": ".py",
   "mimetype": "text/x-python",
   "name": "python",
   "nbconvert_exporter": "python",
   "pygments_lexer": "ipython3",
   "version": "3.12.10"
  }
 },
 "nbformat": 4,
 "nbformat_minor": 5
}
