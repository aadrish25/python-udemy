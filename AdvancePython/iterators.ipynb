{
 "cells": [
  {
   "cell_type": "code",
   "execution_count": null,
   "id": "05b4e5f0",
   "metadata": {},
   "outputs": [],
   "source": [
    "### Iterators provide a way to access elements of a collection, without exposing the underlying structure."
   ]
  },
  {
   "cell_type": "code",
   "execution_count": 1,
   "id": "9552edb3",
   "metadata": {},
   "outputs": [
    {
     "name": "stdout",
     "output_type": "stream",
     "text": [
      "1\n",
      "2\n",
      "3\n",
      "4\n",
      "5\n",
      "6\n"
     ]
    }
   ],
   "source": [
    "# how we normally iterate through a list\n",
    "myList=[1,2,3,4,5,6]\n",
    "for  i in myList:\n",
    "    print(i)"
   ]
  },
  {
   "cell_type": "code",
   "execution_count": 3,
   "id": "7d26fac7",
   "metadata": {},
   "outputs": [
    {
     "name": "stdout",
     "output_type": "stream",
     "text": [
      "<class 'list_iterator'>\n"
     ]
    }
   ],
   "source": [
    "# using an iterator\n",
    "\n",
    "iterator=iter(myList) # 'iter' keyword\n",
    "\n",
    "# it will show its type as list iterator\n",
    "print(type(iterator))"
   ]
  },
  {
   "cell_type": "code",
   "execution_count": 5,
   "id": "0ebd7082",
   "metadata": {},
   "outputs": [
    {
     "name": "stdout",
     "output_type": "stream",
     "text": [
      "<list_iterator object at 0x789c8bc310c0>\n"
     ]
    }
   ],
   "source": [
    "print(iterator) \n",
    "# notice that it does not show us the whole list if we print it. It only shows us list object "
   ]
  },
  {
   "cell_type": "code",
   "execution_count": 13,
   "id": "29e07e98",
   "metadata": {},
   "outputs": [
    {
     "ename": "StopIteration",
     "evalue": "",
     "output_type": "error",
     "traceback": [
      "\u001b[31m---------------------------------------------------------------------------\u001b[39m",
      "\u001b[31mStopIteration\u001b[39m                             Traceback (most recent call last)",
      "\u001b[36mCell\u001b[39m\u001b[36m \u001b[39m\u001b[32mIn[13]\u001b[39m\u001b[32m, line 1\u001b[39m\n\u001b[32m----> \u001b[39m\u001b[32m1\u001b[39m \u001b[38;5;28mprint\u001b[39m(\u001b[38;5;28;43mnext\u001b[39;49m\u001b[43m(\u001b[49m\u001b[43miterator\u001b[49m\u001b[43m)\u001b[49m) \u001b[38;5;66;03m# using 'next' keyword accessing elements of the list, one element at a time\u001b[39;00m\n",
      "\u001b[31mStopIteration\u001b[39m: "
     ]
    }
   ],
   "source": [
    "print(next(iterator)) # using 'next' keyword accessing elements of the list, one element at a time"
   ]
  },
  {
   "cell_type": "code",
   "execution_count": 19,
   "id": "f97bf66a",
   "metadata": {},
   "outputs": [],
   "source": [
    "iterator=iter(myList)"
   ]
  },
  {
   "cell_type": "code",
   "execution_count": 26,
   "id": "065c2f7a",
   "metadata": {},
   "outputs": [
    {
     "name": "stdout",
     "output_type": "stream",
     "text": [
      "Iteration through the list is complete\n"
     ]
    }
   ],
   "source": [
    "# and once iteration through all the elements are complete, it throws a StopIteration error\n",
    "\n",
    "\n",
    "try:\n",
    "    print(next(iterator))\n",
    "except StopIteration:\n",
    "    print(\"Iteration through the list is complete\")"
   ]
  },
  {
   "cell_type": "code",
   "execution_count": null,
   "id": "9db760c6",
   "metadata": {},
   "outputs": [
    {
     "name": "stdout",
     "output_type": "stream",
     "text": [
      "<class 'str_ascii_iterator'>\n"
     ]
    }
   ],
   "source": [
    "# iterators can also be used with string\n",
    "word=\"Aadrish\"\n",
    "\n",
    "strIterator=iter(word)\n",
    "print(type(strIterator)) # 'str_ascii_iterator'"
   ]
  },
  {
   "cell_type": "code",
   "execution_count": null,
   "id": "b2089e09",
   "metadata": {},
   "outputs": [
    {
     "name": "stdout",
     "output_type": "stream",
     "text": [
      "A\n",
      "a\n"
     ]
    }
   ],
   "source": [
    "print(next(strIterator)) # output-> 'A'\n",
    "print(next(strIterator)) # output -> 'a'"
   ]
  }
 ],
 "metadata": {
  "kernelspec": {
   "display_name": "Python 3",
   "language": "python",
   "name": "python3"
  },
  "language_info": {
   "codemirror_mode": {
    "name": "ipython",
    "version": 3
   },
   "file_extension": ".py",
   "mimetype": "text/x-python",
   "name": "python",
   "nbconvert_exporter": "python",
   "pygments_lexer": "ipython3",
   "version": "3.12.10"
  }
 },
 "nbformat": 4,
 "nbformat_minor": 5
}
