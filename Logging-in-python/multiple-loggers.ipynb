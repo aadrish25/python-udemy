{
 "cells": [
  {
   "cell_type": "code",
   "execution_count": 1,
   "id": "b8aa26de",
   "metadata": {},
   "outputs": [],
   "source": [
    "### Logging with multiple loggers\n",
    "# -> means you can create multiple loggers for different parts of your application"
   ]
  },
  {
   "cell_type": "code",
   "execution_count": 2,
   "id": "fc24206a",
   "metadata": {},
   "outputs": [],
   "source": [
    "# suppose I have different modules in my program, and I want to create a logger for each module"
   ]
  },
  {
   "cell_type": "code",
   "execution_count": 3,
   "id": "eb5adb8f",
   "metadata": {},
   "outputs": [],
   "source": [
    "# create a logger for module 1\n",
    "import logging\n",
    "\n",
    "logger1=logging.getLogger(\"module1\")\n",
    "# and set level for logger1\n",
    "logger1.setLevel(logging.DEBUG)\n",
    "\n",
    "\n",
    "# create logger for module 2\n",
    "logger2=logging.getLogger(\"module2\")\n",
    "logger2.setLevel(logging.WARNING)\n",
    "\n",
    "\n",
    "# and finally doing the basic config setting\n",
    "logging.basicConfig(\n",
    "    level=logging.DEBUG,\n",
    "    datefmt=\"%y-%m-%d %H:%M:%S\"\n",
    ") "
   ]
  },
  {
   "cell_type": "code",
   "execution_count": 4,
   "id": "d4c6d979",
   "metadata": {},
   "outputs": [
    {
     "name": "stderr",
     "output_type": "stream",
     "text": [
      "DEBUG:module1:This is a debug message for module 1\n",
      "WARNING:module2:This is a warning message for module 2\n"
     ]
    }
   ],
   "source": [
    "# now printing logger messages for different modules\n",
    "\n",
    "# module1\n",
    "logger1.debug(\"This is a debug message for module 1\") # module1 level->debug\n",
    "\n",
    "# module2\n",
    "logger2.warning(\"This is a warning message for module 2\") # module2 level->warning"
   ]
  },
  {
   "cell_type": "code",
   "execution_count": 5,
   "id": "426d6c44",
   "metadata": {},
   "outputs": [],
   "source": [
    "# see that now it shows the module name intead of 'root' "
   ]
  }
 ],
 "metadata": {
  "kernelspec": {
   "display_name": "Python 3",
   "language": "python",
   "name": "python3"
  },
  "language_info": {
   "codemirror_mode": {
    "name": "ipython",
    "version": 3
   },
   "file_extension": ".py",
   "mimetype": "text/x-python",
   "name": "python",
   "nbconvert_exporter": "python",
   "pygments_lexer": "ipython3",
   "version": "3.12.0"
  }
 },
 "nbformat": 4,
 "nbformat_minor": 5
}
