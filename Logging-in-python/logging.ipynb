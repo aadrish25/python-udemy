{
 "cells": [
  {
   "cell_type": "code",
   "execution_count": null,
   "id": "40d9cf15",
   "metadata": {},
   "outputs": [],
   "source": [
    "### Logging in Python\n",
    "# logging is a way to track events, when your program runs.\n",
    "# logging is very important while creating end to end projects"
   ]
  },
  {
   "cell_type": "code",
   "execution_count": 1,
   "id": "977512d0",
   "metadata": {},
   "outputs": [],
   "source": [
    "# import python's built in logging module\n",
    "import logging"
   ]
  },
  {
   "cell_type": "code",
   "execution_count": 4,
   "id": "2fa854c2",
   "metadata": {},
   "outputs": [],
   "source": [
    "# after importing the module set the basic config settings of logging\n",
    "\n",
    "# logging.basicConfig(level=logging.DEBUG) # any messages at DEBUG level or above it, will only be displayed"
   ]
  },
  {
   "cell_type": "code",
   "execution_count": 5,
   "id": "b1edf9d2",
   "metadata": {},
   "outputs": [
    {
     "name": "stderr",
     "output_type": "stream",
     "text": [
      "DEBUG:root:This is a debug message\n",
      "INFO:root:This is an info message\n",
      "WARNING:root:This is a wwarning message\n",
      "ERROR:root:This is an error message\n",
      "CRITICAL:root:This is a critical message\n"
     ]
    }
   ],
   "source": [
    "# printing log messages of different levels\n",
    "logging.debug(\"This is a debug message\")\n",
    "logging.info(\"This is an info message\")\n",
    "logging.warning(\"This is a wwarning message\")\n",
    "logging.error(\"This is an error message\")\n",
    "logging.critical(\"This is a critical message\")"
   ]
  },
  {
   "cell_type": "code",
   "execution_count": null,
   "id": "e37b31f9",
   "metadata": {},
   "outputs": [],
   "source": [
    "# now i will change the basic config again\n",
    "# changing the basic config in same file is not possible, so I will comment out the previous one"
   ]
  },
  {
   "cell_type": "code",
   "execution_count": 2,
   "id": "56aa3dcf",
   "metadata": {},
   "outputs": [],
   "source": [
    "logging.basicConfig(\n",
    "    filename=\"app.log\",\n",
    "    filemode=\"w\",\n",
    "    level=logging.DEBUG,\n",
    "    # format='%(asctime)s-%(name)s-%(levelname)s-%(message)s',\n",
    "    datefmt='%y-%m-%d %H:%M%:S'\n",
    ")\n",
    "\n",
    "\n",
    "# let's understand the settings one by one,\n",
    "# filename=\"app.log\"-> whatever are my log messages,they will be appended to this file, and ofcourse we need to open the file in \"w\" mode\n",
    "# level-> we set the logging level as before\n",
    "# format-> we specify the format in which the log messages will be shown\n",
    "# %(asctime)s -> the timestamp when the log message was created\n",
    "# %(name)s -> name of the logger, it is usually 'root' \n",
    "# %(levelname)s -> the logging level, in this case, 'DEBUG' \n",
    "# %(message)s -> the actual logging message to be displayed\n",
    "# and lastly, we specify the date format as well"
   ]
  },
  {
   "cell_type": "code",
   "execution_count": 3,
   "id": "d2371361",
   "metadata": {},
   "outputs": [],
   "source": [
    "# now lets display these log messages, and they will be appended to the file 'app.log' \n",
    "\n",
    "logging.debug(\"This is a debug message\")\n",
    "logging.info(\"This is an info message\")\n",
    "logging.warning(\"This is a warning message\")\n",
    "logging.error(\"This is an error message\")\n",
    "logging.critical(\"This is a critical message\")"
   ]
  },
  {
   "cell_type": "code",
   "execution_count": 4,
   "id": "b7bc823e",
   "metadata": {},
   "outputs": [],
   "source": [
    "# once you have done basic configuration of logging in a python file, you can use it in any other python file, just by importing\n",
    "# but the files should be in the same folder"
   ]
  }
 ],
 "metadata": {
  "kernelspec": {
   "display_name": "Python 3",
   "language": "python",
   "name": "python3"
  },
  "language_info": {
   "codemirror_mode": {
    "name": "ipython",
    "version": 3
   },
   "file_extension": ".py",
   "mimetype": "text/x-python",
   "name": "python",
   "nbconvert_exporter": "python",
   "pygments_lexer": "ipython3",
   "version": "3.12.0"
  }
 },
 "nbformat": 4,
 "nbformat_minor": 5
}
