{
 "cells": [
  {
   "cell_type": "code",
   "execution_count": null,
   "id": "61422b25",
   "metadata": {},
   "outputs": [],
   "source": [
    "### SQL (Structured Query Language) is a standard language for managing and manipulating relational databases.\n",
    "### SQLite is a self contained,serverless database engine."
   ]
  },
  {
   "cell_type": "code",
   "execution_count": 1,
   "id": "59fdb588",
   "metadata": {},
   "outputs": [],
   "source": [
    "import sqlite3"
   ]
  },
  {
   "cell_type": "code",
   "execution_count": 2,
   "id": "f12d6f12",
   "metadata": {},
   "outputs": [],
   "source": [
    "# creating a database connection\n",
    "connection=sqlite3.connect(\"example.db\") # a db file, named 'example.db' will be created"
   ]
  },
  {
   "cell_type": "code",
   "execution_count": 3,
   "id": "d8829a42",
   "metadata": {},
   "outputs": [],
   "source": [
    "# create a cursor object which will iterate through your tables and all in the db\n",
    "cursor=connection.cursor()"
   ]
  },
  {
   "cell_type": "code",
   "execution_count": 4,
   "id": "43e13e09",
   "metadata": {},
   "outputs": [],
   "source": [
    "# creating a table in the db\n",
    "# the query is similar to that of MySQL\n",
    "cursor.execute('''\n",
    "    CREATE TABLE employee(\n",
    "    ID INT PRIMARY KEY,\n",
    "    Name VARCHAR(50),\n",
    "    Age INT,\n",
    "    Department VARCHAR(50)\n",
    "    )\n",
    "''')\n",
    "\n",
    "\n",
    "# and after creating the table you also need to commit the changes,\n",
    "connection.commit()"
   ]
  },
  {
   "cell_type": "code",
   "execution_count": null,
   "id": "1ea7751b",
   "metadata": {},
   "outputs": [
    {
     "data": {
      "text/plain": [
       "<sqlite3.Cursor at 0x1c220ee6ac0>"
      ]
     },
     "execution_count": 5,
     "metadata": {},
     "output_type": "execute_result"
    }
   ],
   "source": [
    "# now if i try to access the table\n",
    "cursor.execute('''\n",
    "    SELECT * FROM employee\n",
    "''')\n",
    "\n",
    "# see that an object has been created"
   ]
  },
  {
   "cell_type": "code",
   "execution_count": 6,
   "id": "8477e883",
   "metadata": {},
   "outputs": [],
   "source": [
    "# now we will be inserting some data in the 'employee' table\n",
    "cursor.execute('''\n",
    "    INSERT INTO employee(ID,Name,Age,Department)\n",
    "    VALUES\n",
    "    (1,\"Aadrish\",21,\"Data Science\"),\n",
    "    (2,\"Toddy\",22,\"IT\"),\n",
    "    (3,\"Bob\",35,\"Marketing\"),\n",
    "    (4,\"Charlie\",35,\"Finance\")\n",
    "''')\n",
    "\n",
    "\n",
    "# and finally you have to commit the changes\n",
    "connection.commit()"
   ]
  },
  {
   "cell_type": "code",
   "execution_count": null,
   "id": "3984a54c",
   "metadata": {},
   "outputs": [
    {
     "name": "stdout",
     "output_type": "stream",
     "text": [
      "[(1, 'Aadrish', 21, 'Data Science'), (2, 'Toddy', 22, 'IT'), (3, 'Bob', 35, 'Marketing'), (4, 'Charlie', 35, 'Finance')]\n"
     ]
    }
   ],
   "source": [
    "# now if you want to query data from the table\n",
    "cursor.execute(\"SELECT * FROM employee\")\n",
    "# and now you need to get rows from the queried data\n",
    "rows=cursor.fetchall()\n",
    "\n",
    "print(rows) # see that the rows are in form of tuple, and they are all collected in a list"
   ]
  },
  {
   "cell_type": "code",
   "execution_count": 9,
   "id": "538dd62a",
   "metadata": {},
   "outputs": [
    {
     "name": "stdout",
     "output_type": "stream",
     "text": [
      "(1, 'Aadrish', 21, 'Data Science')\n",
      "(2, 'Toddy', 22, 'IT')\n",
      "(3, 'Bob', 35, 'Marketing')\n",
      "(4, 'Charlie', 35, 'Finance')\n"
     ]
    }
   ],
   "source": [
    "# to print each row at a time, we iterate through the rows\n",
    "for row in rows:\n",
    "    print(row)\n",
    "# now each row tuple will be printed individually"
   ]
  },
  {
   "cell_type": "code",
   "execution_count": 10,
   "id": "f15b290a",
   "metadata": {},
   "outputs": [],
   "source": [
    "# now suppose you want to update info in a table\n",
    "cursor.execute('''\n",
    "    UPDATE employee\n",
    "    SET Age=21\n",
    "    WHERE Name=\"Toddy\"    \n",
    "''')\n",
    "\n",
    "# and for changes to take effect you have to commit\n",
    "connection.commit()"
   ]
  },
  {
   "cell_type": "code",
   "execution_count": 12,
   "id": "ac3d9867",
   "metadata": {},
   "outputs": [
    {
     "name": "stdout",
     "output_type": "stream",
     "text": [
      "(1, 'Aadrish', 21, 'Data Science')\n",
      "(2, 'Toddy', 21, 'IT')\n",
      "(3, 'Bob', 35, 'Marketing')\n",
      "(4, 'Charlie', 35, 'Finance')\n"
     ]
    }
   ],
   "source": [
    "# let's see if changes took place or not\n",
    "cursor.execute(\"SELECT * FROM employee\")\n",
    "rows=cursor.fetchall()\n",
    "\n",
    "for row in rows:\n",
    "    print(row)\n",
    " # see that 'Toddy' age has been set to 21"
   ]
  },
  {
   "cell_type": "code",
   "execution_count": null,
   "id": "0e7200f2",
   "metadata": {},
   "outputs": [],
   "source": []
  },
  {
   "cell_type": "code",
   "execution_count": null,
   "id": "a6636513",
   "metadata": {},
   "outputs": [],
   "source": []
  },
  {
   "cell_type": "code",
   "execution_count": null,
   "id": "7909c7b0",
   "metadata": {},
   "outputs": [],
   "source": []
  },
  {
   "cell_type": "code",
   "execution_count": null,
   "id": "99b289ef",
   "metadata": {},
   "outputs": [],
   "source": []
  },
  {
   "cell_type": "code",
   "execution_count": null,
   "id": "cd283de8",
   "metadata": {},
   "outputs": [],
   "source": []
  },
  {
   "cell_type": "code",
   "execution_count": null,
   "id": "22b315af",
   "metadata": {},
   "outputs": [],
   "source": []
  },
  {
   "cell_type": "code",
   "execution_count": null,
   "id": "49aeba68",
   "metadata": {},
   "outputs": [],
   "source": []
  },
  {
   "cell_type": "code",
   "execution_count": null,
   "id": "7d7c7f90",
   "metadata": {},
   "outputs": [],
   "source": []
  },
  {
   "cell_type": "code",
   "execution_count": null,
   "id": "98714c8e",
   "metadata": {},
   "outputs": [],
   "source": []
  },
  {
   "cell_type": "code",
   "execution_count": null,
   "id": "08527812",
   "metadata": {},
   "outputs": [],
   "source": []
  },
  {
   "cell_type": "code",
   "execution_count": null,
   "id": "e398e950",
   "metadata": {},
   "outputs": [],
   "source": []
  },
  {
   "cell_type": "code",
   "execution_count": null,
   "id": "73eca06c",
   "metadata": {},
   "outputs": [],
   "source": []
  },
  {
   "cell_type": "code",
   "execution_count": null,
   "id": "c0924c77",
   "metadata": {},
   "outputs": [],
   "source": []
  },
  {
   "cell_type": "code",
   "execution_count": null,
   "id": "79b78f1e",
   "metadata": {},
   "outputs": [],
   "source": []
  },
  {
   "cell_type": "code",
   "execution_count": null,
   "id": "cf66e4dc",
   "metadata": {},
   "outputs": [],
   "source": []
  },
  {
   "cell_type": "code",
   "execution_count": null,
   "id": "458a232b",
   "metadata": {},
   "outputs": [],
   "source": []
  },
  {
   "cell_type": "code",
   "execution_count": null,
   "id": "4261b91d",
   "metadata": {},
   "outputs": [],
   "source": []
  },
  {
   "cell_type": "code",
   "execution_count": null,
   "id": "2e233481",
   "metadata": {},
   "outputs": [],
   "source": []
  }
 ],
 "metadata": {
  "kernelspec": {
   "display_name": "Python 3",
   "language": "python",
   "name": "python3"
  },
  "language_info": {
   "codemirror_mode": {
    "name": "ipython",
    "version": 3
   },
   "file_extension": ".py",
   "mimetype": "text/x-python",
   "name": "python",
   "nbconvert_exporter": "python",
   "pygments_lexer": "ipython3",
   "version": "3.12.0"
  }
 },
 "nbformat": 4,
 "nbformat_minor": 5
}
