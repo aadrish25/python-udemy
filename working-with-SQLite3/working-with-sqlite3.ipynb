{
 "cells": [
  {
   "cell_type": "code",
   "execution_count": null,
   "id": "61422b25",
   "metadata": {},
   "outputs": [],
   "source": [
    "### SQL (Structured Query Language) is a standard language for managing and manipulating relational databases.\n",
    "### SQLite is a self contained,serverless database engine."
   ]
  },
  {
   "cell_type": "code",
   "execution_count": 1,
   "id": "59fdb588",
   "metadata": {},
   "outputs": [],
   "source": [
    "import sqlite3"
   ]
  },
  {
   "cell_type": "code",
   "execution_count": 2,
   "id": "f12d6f12",
   "metadata": {},
   "outputs": [],
   "source": [
    "# creating a database connection\n",
    "connection=sqlite3.connect(\"example.db\") # a db file, named 'example.db' will be created"
   ]
  },
  {
   "cell_type": "code",
   "execution_count": 3,
   "id": "d8829a42",
   "metadata": {},
   "outputs": [],
   "source": [
    "# create a cursor object which will iterate through your tables and all in the db\n",
    "cursor=connection.cursor()"
   ]
  },
  {
   "cell_type": "code",
   "execution_count": 4,
   "id": "43e13e09",
   "metadata": {},
   "outputs": [],
   "source": [
    "# creating a table in the db\n",
    "# the query is similar to that of MySQL\n",
    "cursor.execute('''\n",
    "    CREATE TABLE employee(\n",
    "    ID INT PRIMARY KEY,\n",
    "    Name VARCHAR(50),\n",
    "    Age INT,\n",
    "    Department VARCHAR(50)\n",
    "    )\n",
    "''')\n",
    "\n",
    "\n",
    "# and after creating the table you also need to commit the changes,\n",
    "connection.commit()"
   ]
  },
  {
   "cell_type": "code",
   "execution_count": null,
   "id": "1ea7751b",
   "metadata": {},
   "outputs": [
    {
     "data": {
      "text/plain": [
       "<sqlite3.Cursor at 0x1c220ee6ac0>"
      ]
     },
     "execution_count": 5,
     "metadata": {},
     "output_type": "execute_result"
    }
   ],
   "source": [
    "# now if i try to access the table\n",
    "cursor.execute('''\n",
    "    SELECT * FROM employee\n",
    "''')\n",
    "\n",
    "# see that an object has been created"
   ]
  },
  {
   "cell_type": "code",
   "execution_count": 6,
   "id": "8477e883",
   "metadata": {},
   "outputs": [],
   "source": [
    "# now we will be inserting some data in the 'employee' table\n",
    "cursor.execute('''\n",
    "    INSERT INTO employee(ID,Name,Age,Department)\n",
    "    VALUES\n",
    "    (1,\"Aadrish\",21,\"Data Science\"),\n",
    "    (2,\"Toddy\",22,\"IT\"),\n",
    "    (3,\"Bob\",35,\"Marketing\"),\n",
    "    (4,\"Charlie\",35,\"Finance\")\n",
    "''')\n",
    "\n",
    "\n",
    "# and finally you have to commit the changes\n",
    "connection.commit()"
   ]
  },
  {
   "cell_type": "code",
   "execution_count": null,
   "id": "3984a54c",
   "metadata": {},
   "outputs": [
    {
     "name": "stdout",
     "output_type": "stream",
     "text": [
      "[(1, 'Aadrish', 21, 'Data Science'), (2, 'Toddy', 22, 'IT'), (3, 'Bob', 35, 'Marketing'), (4, 'Charlie', 35, 'Finance')]\n"
     ]
    }
   ],
   "source": [
    "# now if you want to query data from the table\n",
    "cursor.execute(\"SELECT * FROM employee\")\n",
    "# and now you need to get rows from the queried data\n",
    "rows=cursor.fetchall()\n",
    "\n",
    "print(rows) # see that the rows are in form of tuple, and they are all collected in a list"
   ]
  },
  {
   "cell_type": "code",
   "execution_count": 9,
   "id": "538dd62a",
   "metadata": {},
   "outputs": [
    {
     "name": "stdout",
     "output_type": "stream",
     "text": [
      "(1, 'Aadrish', 21, 'Data Science')\n",
      "(2, 'Toddy', 22, 'IT')\n",
      "(3, 'Bob', 35, 'Marketing')\n",
      "(4, 'Charlie', 35, 'Finance')\n"
     ]
    }
   ],
   "source": [
    "# to print each row at a time, we iterate through the rows\n",
    "for row in rows:\n",
    "    print(row)\n",
    "# now each row tuple will be printed individually"
   ]
  },
  {
   "cell_type": "code",
   "execution_count": 10,
   "id": "f15b290a",
   "metadata": {},
   "outputs": [],
   "source": [
    "# now suppose you want to update info in a table\n",
    "cursor.execute('''\n",
    "    UPDATE employee\n",
    "    SET Age=21\n",
    "    WHERE Name=\"Toddy\"    \n",
    "''')\n",
    "\n",
    "# and for changes to take effect you have to commit\n",
    "connection.commit()"
   ]
  },
  {
   "cell_type": "code",
   "execution_count": 12,
   "id": "ac3d9867",
   "metadata": {},
   "outputs": [
    {
     "name": "stdout",
     "output_type": "stream",
     "text": [
      "(1, 'Aadrish', 21, 'Data Science')\n",
      "(2, 'Toddy', 21, 'IT')\n",
      "(3, 'Bob', 35, 'Marketing')\n",
      "(4, 'Charlie', 35, 'Finance')\n"
     ]
    }
   ],
   "source": [
    "# let's see if changes took place or not\n",
    "cursor.execute(\"SELECT * FROM employee\")\n",
    "rows=cursor.fetchall()\n",
    "\n",
    "for row in rows:\n",
    "    print(row)\n",
    " # see that 'Toddy' age has been set to 21"
   ]
  },
  {
   "cell_type": "code",
   "execution_count": 16,
   "id": "0e7200f2",
   "metadata": {},
   "outputs": [],
   "source": [
    "# now deleting data from the table\n",
    "cursor.execute('''\n",
    "    DELETE FROM employee\n",
    "    WHERE Name=\"Bob\"\n",
    "''')\n",
    "# this query is supposed to deleted Bob's records from the table\n",
    "connection.commit()"
   ]
  },
  {
   "cell_type": "code",
   "execution_count": 17,
   "id": "a6636513",
   "metadata": {},
   "outputs": [
    {
     "name": "stdout",
     "output_type": "stream",
     "text": [
      "(1, 'Aadrish', 21, 'Data Science')\n",
      "(2, 'Toddy', 21, 'IT')\n",
      "(4, 'Charlie', 35, 'Finance')\n"
     ]
    }
   ],
   "source": [
    "cursor.execute(\"SELECT * FROM employee\")\n",
    "rows=cursor.fetchall()\n",
    "\n",
    "for row in rows:\n",
    "    print(row)\n",
    "\n",
    "# you can see that Bob's records got deleted from the table"
   ]
  },
  {
   "cell_type": "code",
   "execution_count": 18,
   "id": "7909c7b0",
   "metadata": {},
   "outputs": [
    {
     "data": {
      "text/plain": [
       "<sqlite3.Cursor at 0x1c220fdcf40>"
      ]
     },
     "execution_count": 18,
     "metadata": {},
     "output_type": "execute_result"
    }
   ],
   "source": [
    "### Working with sales data\n",
    "sales_db_connection=sqlite3.connect(\"sales_data.db\")\n",
    "sales_db_connection.cursor()"
   ]
  },
  {
   "cell_type": "code",
   "execution_count": 19,
   "id": "99b289ef",
   "metadata": {},
   "outputs": [],
   "source": [
    "# create a table in the sales database\n",
    "cursor.execute('''\n",
    "    CREATE TABLE sales(\n",
    "        ID INT PRIMARY KEY,\n",
    "        Date VARCHAR(50) NOT NULL,\n",
    "        Product VARCHAR(50),\n",
    "        Sales INT, \n",
    "        Region VARCHAR(50)\n",
    "        )\n",
    "''')\n",
    "\n",
    "\n",
    "sales_db_connection.commit()"
   ]
  },
  {
   "cell_type": "code",
   "execution_count": 20,
   "id": "cd283de8",
   "metadata": {},
   "outputs": [],
   "source": [
    "# inserting many data into the table at once\n",
    "sales_data=[\n",
    "    (\"2023-01-01\",\"Product1\",100,\"North\"),\n",
    "    (\"2023-01-02\",\"Product2\",200,\"South\"),\n",
    "    (\"2023-01-03\",\"Product3\",150,\"East\"),\n",
    "    (\"2023-01-04\",\"Product3\",250,\"West\"),\n",
    "    (\"2023-01-02\",\"Product2\",300,\"North\"),\n",
    "]"
   ]
  },
  {
   "cell_type": "code",
   "execution_count": 21,
   "id": "22b315af",
   "metadata": {},
   "outputs": [],
   "source": [
    "# to insert the list into the sales table\n",
    "cursor.executemany('''\n",
    "    INSERT INTO sales(Date,Product,Sales,Region)\n",
    "        VALUES(?,?,?,?)\n",
    "''',sales_data) \n",
    "# the 'sales_data' list will replace the '?' in values\n",
    "\n",
    "sales_db_connection.commit()"
   ]
  },
  {
   "cell_type": "code",
   "execution_count": 23,
   "id": "49aeba68",
   "metadata": {},
   "outputs": [
    {
     "name": "stdout",
     "output_type": "stream",
     "text": [
      "(None, '2023-01-01', 'Product1', 100, 'North')\n",
      "(None, '2023-01-02', 'Product2', 200, 'South')\n",
      "(None, '2023-01-03', 'Product3', 150, 'East')\n",
      "(None, '2023-01-04', 'Product3', 250, 'West')\n",
      "(None, '2023-01-02', 'Product2', 300, 'North')\n"
     ]
    }
   ],
   "source": [
    "# check if the data has been inserted\n",
    "cursor.execute(\"SELECT * FROM sales\")\n",
    "rows=cursor.fetchall()\n",
    "\n",
    "for row in rows:\n",
    "    print(row)\n",
    "\n",
    "# yes see that all the list items have been inserted\n",
    "# since we have not inserted any 'ID', so it shows None"
   ]
  },
  {
   "cell_type": "code",
   "execution_count": 24,
   "id": "7d7c7f90",
   "metadata": {},
   "outputs": [],
   "source": [
    "# now finally to close the connection to db\n",
    "sales_db_connection.close() # closing the connection to sales db\n",
    "connection.close() # closing the initial connection we made"
   ]
  }
 ],
 "metadata": {
  "kernelspec": {
   "display_name": "Python 3",
   "language": "python",
   "name": "python3"
  },
  "language_info": {
   "codemirror_mode": {
    "name": "ipython",
    "version": 3
   },
   "file_extension": ".py",
   "mimetype": "text/x-python",
   "name": "python",
   "nbconvert_exporter": "python",
   "pygments_lexer": "ipython3",
   "version": "3.12.0"
  }
 },
 "nbformat": 4,
 "nbformat_minor": 5
}
