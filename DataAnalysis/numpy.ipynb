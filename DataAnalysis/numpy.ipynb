{
 "cells": [
  {
   "cell_type": "code",
   "execution_count": null,
   "id": "1fabd57b",
   "metadata": {},
   "outputs": [],
   "source": [
    "### Numpy is a fundamental library in python, for scientific computing."
   ]
  },
  {
   "cell_type": "code",
   "execution_count": null,
   "id": "607dd517",
   "metadata": {},
   "outputs": [
    {
     "name": "stdout",
     "output_type": "stream",
     "text": [
      "[1 2 3 4 5]\n",
      "[1 2 3 4 5]\n"
     ]
    }
   ],
   "source": [
    "import numpy as np\n",
    "\n",
    "# creating 1D array\n",
    "arr1=np.array([1,2,3,4,5]) # you provide a list, it will be converted to array\n",
    "print(arr1)\n",
    "arr2=np.array((1,2,3,4,5)) # you provide a tuple, it will also be converted to array\n",
    "print(arr2)"
   ]
  },
  {
   "cell_type": "code",
   "execution_count": 7,
   "id": "3ce20d3e",
   "metadata": {},
   "outputs": [
    {
     "name": "stdout",
     "output_type": "stream",
     "text": [
      "(5,)\n"
     ]
    }
   ],
   "source": [
    "print(arr1.shape)\n",
    "# 1D array so it will print (5,)-> meaning it has only 5 elements, and there are no rows and columns"
   ]
  },
  {
   "cell_type": "code",
   "execution_count": 9,
   "id": "04675e6a",
   "metadata": {},
   "outputs": [
    {
     "data": {
      "text/plain": [
       "array([[1, 2, 3, 4, 5]])"
      ]
     },
     "execution_count": 9,
     "metadata": {},
     "output_type": "execute_result"
    }
   ],
   "source": [
    "arr1.reshape(1,5)\n",
    "# changing the 1D array into 2D. (1,5)-> meaning change the array into a 2D array having 1row and 5 columns"
   ]
  },
  {
   "cell_type": "code",
   "execution_count": 11,
   "id": "1a507e9c",
   "metadata": {},
   "outputs": [
    {
     "data": {
      "text/plain": [
       "(1, 4)"
      ]
     },
     "execution_count": 11,
     "metadata": {},
     "output_type": "execute_result"
    }
   ],
   "source": [
    "# defining a 2D array\n",
    "arr2=np.array([[1,2,3,4]]) # concept of nested list\n",
    "\n",
    "arr2.shape # (1,4)-> meaning 1 row and 4 columns"
   ]
  },
  {
   "cell_type": "code",
   "execution_count": 16,
   "id": "f55aef93",
   "metadata": {},
   "outputs": [
    {
     "name": "stdout",
     "output_type": "stream",
     "text": [
      "[[1 2 3]\n",
      " [4 5 6]\n",
      " [7 8 9]]\n",
      "(3, 3)\n"
     ]
    }
   ],
   "source": [
    "# 2D array with multiple rows and columns\n",
    "arr2=np.array([[1,2,3],[4,5,6],[7,8,9]]) # created a 3x3 matrix\n",
    "print(arr2)\n",
    "\n",
    "print(arr2.shape) #(3,3)-> meaning 3 row and 3 columns"
   ]
  },
  {
   "cell_type": "code",
   "execution_count": 21,
   "id": "52a75484",
   "metadata": {},
   "outputs": [
    {
     "name": "stdout",
     "output_type": "stream",
     "text": [
      "[0 2 4 6 8]\n",
      "[[0]\n",
      " [2]\n",
      " [4]\n",
      " [6]\n",
      " [8]]\n"
     ]
    }
   ],
   "source": [
    "# creating an array within a specified range\n",
    "myArr=np.arange(0,10,2)\n",
    "# creates an array with elements between 0(inclusive) and 10(exclusive), with a step of 2\n",
    "print(myArr)\n",
    "\n",
    "# convert this array into a 2D array, with 5 rows and 1 column\n",
    "print(myArr.reshape(5,1))\n",
    "\n"
   ]
  },
  {
   "cell_type": "code",
   "execution_count": 22,
   "id": "6ee4ace6",
   "metadata": {},
   "outputs": [
    {
     "name": "stdout",
     "output_type": "stream",
     "text": [
      "[[1. 1. 1. 1.]\n",
      " [1. 1. 1. 1.]\n",
      " [1. 1. 1. 1.]]\n"
     ]
    }
   ],
   "source": [
    "# create a 2D array with all elements as 1\n",
    "oneArr=np.ones((3,4)) # 2D array with 3 rows and 4 columns and all elements as 1\n",
    "print(oneArr)"
   ]
  },
  {
   "cell_type": "code",
   "execution_count": 24,
   "id": "9972ae32",
   "metadata": {},
   "outputs": [
    {
     "name": "stdout",
     "output_type": "stream",
     "text": [
      "[[0. 0. 0. 0.]\n",
      " [0. 0. 0. 0.]\n",
      " [0. 0. 0. 0.]]\n"
     ]
    }
   ],
   "source": [
    "# similarly, matrix with zeroes\n",
    "zeroArr=np.zeros((3,4))\n",
    "print(zeroArr)"
   ]
  },
  {
   "cell_type": "code",
   "execution_count": 25,
   "id": "4f4cccc7",
   "metadata": {},
   "outputs": [
    {
     "name": "stdout",
     "output_type": "stream",
     "text": [
      "[[1. 0. 0. 0.]\n",
      " [0. 1. 0. 0.]\n",
      " [0. 0. 1. 0.]\n",
      " [0. 0. 0. 1.]]\n"
     ]
    }
   ],
   "source": [
    "# create a nxn identity matrix\n",
    "identity=np.eye(4) # 4x4 identity matrix\n",
    "print(identity)"
   ]
  },
  {
   "cell_type": "code",
   "execution_count": 26,
   "id": "e6dc9928",
   "metadata": {},
   "outputs": [],
   "source": [
    "### Numpy Vectorized operations\n",
    "arr1=np.array([1,2,3,4,5])\n",
    "arr2=np.array([10,20,30,40,50])"
   ]
  },
  {
   "cell_type": "code",
   "execution_count": 27,
   "id": "fa0d2511",
   "metadata": {},
   "outputs": [
    {
     "name": "stdout",
     "output_type": "stream",
     "text": [
      "Addition: [11 22 33 44 55]\n"
     ]
    }
   ],
   "source": [
    "# element wise addition\n",
    "print(f\"Addition: {arr1+arr2}\") "
   ]
  },
  {
   "cell_type": "code",
   "execution_count": 28,
   "id": "cfff61cb",
   "metadata": {},
   "outputs": [
    {
     "name": "stdout",
     "output_type": "stream",
     "text": [
      "Subtraction: [ 9 18 27 36 45]\n"
     ]
    }
   ],
   "source": [
    "# element wise subtracion\n",
    "print(f\"Subtraction: {arr2-arr1}\") "
   ]
  },
  {
   "cell_type": "code",
   "execution_count": 29,
   "id": "265981f6",
   "metadata": {},
   "outputs": [
    {
     "name": "stdout",
     "output_type": "stream",
     "text": [
      "Multiplication: [ 10  40  90 160 250]\n"
     ]
    }
   ],
   "source": [
    "# element wise multiplication\n",
    "print(f\"Multiplication: {arr1*arr2}\") "
   ]
  },
  {
   "cell_type": "code",
   "execution_count": 30,
   "id": "8e08055a",
   "metadata": {},
   "outputs": [
    {
     "name": "stdout",
     "output_type": "stream",
     "text": [
      "Division: [0.1 0.1 0.1 0.1 0.1]\n"
     ]
    }
   ],
   "source": [
    "# element wise division\n",
    "print(f\"Division: {arr1/arr2}\") "
   ]
  },
  {
   "cell_type": "code",
   "execution_count": 31,
   "id": "71d4de04",
   "metadata": {},
   "outputs": [],
   "source": [
    "### Universal Functions-> functions which get applied to all array elements\n",
    "arr1=np.array([1,2,3,4,5])"
   ]
  },
  {
   "cell_type": "code",
   "execution_count": 32,
   "id": "14cb5ad4",
   "metadata": {},
   "outputs": [
    {
     "name": "stdout",
     "output_type": "stream",
     "text": [
      "[1.         1.41421356 1.73205081 2.         2.23606798]\n"
     ]
    }
   ],
   "source": [
    "# square root-> element wise\n",
    "print(np.sqrt(arr1))"
   ]
  },
  {
   "cell_type": "code",
   "execution_count": 34,
   "id": "0f5b17dd",
   "metadata": {},
   "outputs": [
    {
     "name": "stdout",
     "output_type": "stream",
     "text": [
      "[  2.71828183   7.3890561   20.08553692  54.59815003 148.4131591 ]\n"
     ]
    }
   ],
   "source": [
    "# exponential-> to the power(e)\n",
    "print(np.exp(arr1))"
   ]
  },
  {
   "cell_type": "code",
   "execution_count": 36,
   "id": "bfde6e82",
   "metadata": {},
   "outputs": [
    {
     "name": "stdout",
     "output_type": "stream",
     "text": [
      "[ 0.84147098  0.90929743  0.14112001 -0.7568025  -0.95892427]\n"
     ]
    }
   ],
   "source": [
    "# sine -> element wise\n",
    "print(np.sin(arr1))"
   ]
  },
  {
   "cell_type": "code",
   "execution_count": 37,
   "id": "3a011f6e",
   "metadata": {},
   "outputs": [
    {
     "name": "stdout",
     "output_type": "stream",
     "text": [
      "[0.         0.69314718 1.09861229 1.38629436 1.60943791]\n"
     ]
    }
   ],
   "source": [
    "# natural log-> element wise\n",
    "print(np.log(arr1))"
   ]
  },
  {
   "cell_type": "code",
   "execution_count": 38,
   "id": "3a2d05ae",
   "metadata": {},
   "outputs": [
    {
     "name": "stdout",
     "output_type": "stream",
     "text": [
      "[[1 2 3]\n",
      " [4 5 6]\n",
      " [7 8 9]]\n"
     ]
    }
   ],
   "source": [
    "# accessing a matrix element\n",
    "arr=np.array([[1,2,3],[4,5,6],[7,8,9]])\n",
    "print(arr)"
   ]
  },
  {
   "cell_type": "code",
   "execution_count": 40,
   "id": "bde9f64a",
   "metadata": {},
   "outputs": [
    {
     "name": "stdout",
     "output_type": "stream",
     "text": [
      "3\n"
     ]
    }
   ],
   "source": [
    "# arr[row][column]\n",
    "print(arr[0][2]) # element from row->0 and column->2"
   ]
  },
  {
   "cell_type": "code",
   "execution_count": 45,
   "id": "58cb1729",
   "metadata": {},
   "outputs": [
    {
     "name": "stdout",
     "output_type": "stream",
     "text": [
      "[[ 1  2  3  4]\n",
      " [ 5  6  7  8]\n",
      " [ 9 10 11 12]]\n"
     ]
    }
   ],
   "source": [
    "matrix=np.array([[1,2,3,4],[5,6,7,8],[9,10,11,12]])\n",
    "print(matrix)"
   ]
  },
  {
   "cell_type": "code",
   "execution_count": 46,
   "id": "609177df",
   "metadata": {},
   "outputs": [
    {
     "name": "stdout",
     "output_type": "stream",
     "text": [
      "[[ 5  6  7  8]\n",
      " [ 9 10 11 12]]\n"
     ]
    }
   ],
   "source": [
    "# suppose we want to fetch [7 8] [11 12] from the matrix\n",
    "# 7,8 are in row->1 \n",
    "# 11,12 are in row->2(last row)\n",
    "# so let's fetch those two rows\n",
    "print(matrix[1:]) # this means start from row->1 and go till last"
   ]
  },
  {
   "cell_type": "code",
   "execution_count": 47,
   "id": "41dfba80",
   "metadata": {},
   "outputs": [
    {
     "name": "stdout",
     "output_type": "stream",
     "text": [
      "[[ 7  8]\n",
      " [11 12]]\n"
     ]
    }
   ],
   "source": [
    "# now [7,8] are in column->2,3 (3 being the last column)\n",
    "# same goes for [11,12]\n",
    "# so we'll start from column 2 and go till last\n",
    "print(matrix[1:,2:]) # 2: -> means start from column 2 and go till last"
   ]
  },
  {
   "cell_type": "code",
   "execution_count": null,
   "id": "98a7eb59",
   "metadata": {},
   "outputs": [
    {
     "name": "stdout",
     "output_type": "stream",
     "text": [
      "[[1 2 3 4]\n",
      " [5 6 7 8]]\n"
     ]
    }
   ],
   "source": [
    "# similarly if you want to take [3,4] and [7,8] from the array\n",
    "print(matrix[:2]) # start from 0th row and go till row 2(exclusive)"
   ]
  },
  {
   "cell_type": "code",
   "execution_count": 51,
   "id": "97546da3",
   "metadata": {},
   "outputs": [
    {
     "name": "stdout",
     "output_type": "stream",
     "text": [
      "[[3 4]\n",
      " [7 8]]\n"
     ]
    }
   ],
   "source": [
    "print(matrix[:2,2:]) # start from column-> 2 and go till last column"
   ]
  },
  {
   "cell_type": "code",
   "execution_count": 52,
   "id": "527a04cd",
   "metadata": {},
   "outputs": [
    {
     "name": "stdout",
     "output_type": "stream",
     "text": [
      "[[ 5  6  7  8]\n",
      " [ 9 10 11 12]]\n"
     ]
    }
   ],
   "source": [
    "# to pickup [6,7] and [10,11]\n",
    "print(matrix[1:])"
   ]
  },
  {
   "cell_type": "code",
   "execution_count": 54,
   "id": "a6383ba1",
   "metadata": {},
   "outputs": [
    {
     "name": "stdout",
     "output_type": "stream",
     "text": [
      "[[ 6  7]\n",
      " [10 11]]\n"
     ]
    }
   ],
   "source": [
    "print(matrix[1:,1:3])"
   ]
  },
  {
   "cell_type": "code",
   "execution_count": 55,
   "id": "b40d54bd",
   "metadata": {},
   "outputs": [
    {
     "name": "stdout",
     "output_type": "stream",
     "text": [
      "[[100   2   3   4]\n",
      " [  5   6   7   8]\n",
      " [  9  10  11  12]]\n"
     ]
    }
   ],
   "source": [
    "# modify array elements\n",
    "matrix[0][0]=100\n",
    "print(matrix)"
   ]
  },
  {
   "cell_type": "code",
   "execution_count": null,
   "id": "b9cf7555",
   "metadata": {},
   "outputs": [],
   "source": [
    "### Statistical concepts \n",
    "# normalization"
   ]
  },
  {
   "cell_type": "code",
   "execution_count": 56,
   "id": "73b4b02b",
   "metadata": {},
   "outputs": [],
   "source": [
    "# calculating mean and standard deviation and then normalized data\n",
    "data=np.array([10,20,30,40,50])"
   ]
  },
  {
   "cell_type": "code",
   "execution_count": 57,
   "id": "511d0026",
   "metadata": {},
   "outputs": [
    {
     "name": "stdout",
     "output_type": "stream",
     "text": [
      "30.0\n"
     ]
    }
   ],
   "source": [
    "# calculating mean of the data\n",
    "mean=np.mean(data)\n",
    "print(mean)"
   ]
  },
  {
   "cell_type": "code",
   "execution_count": null,
   "id": "6adae664",
   "metadata": {},
   "outputs": [
    {
     "name": "stdout",
     "output_type": "stream",
     "text": [
      "200.0\n"
     ]
    }
   ],
   "source": [
    "# calculating variance of data\n",
    "variance=np.var(data)\n",
    "print(variance)"
   ]
  },
  {
   "cell_type": "code",
   "execution_count": null,
   "id": "154f96fb",
   "metadata": {},
   "outputs": [
    {
     "name": "stdout",
     "output_type": "stream",
     "text": [
      "14.142135623730951\n"
     ]
    }
   ],
   "source": [
    "# and standard deviation = root(variance)\n",
    "print(np.sqrt(variance))"
   ]
  },
  {
   "cell_type": "code",
   "execution_count": 60,
   "id": "4df29b20",
   "metadata": {},
   "outputs": [
    {
     "name": "stdout",
     "output_type": "stream",
     "text": [
      "14.142135623730951\n"
     ]
    }
   ],
   "source": [
    "# calculating standard deviation directly\n",
    "sd=np.std(data)\n",
    "print(sd)"
   ]
  },
  {
   "cell_type": "code",
   "execution_count": 61,
   "id": "6325df9a",
   "metadata": {},
   "outputs": [
    {
     "name": "stdout",
     "output_type": "stream",
     "text": [
      "[-20. -10.   0.  10.  20.]\n"
     ]
    }
   ],
   "source": [
    "# calculation of normalized data\n",
    "print(data-mean)"
   ]
  },
  {
   "cell_type": "code",
   "execution_count": 63,
   "id": "3edf4804",
   "metadata": {},
   "outputs": [
    {
     "name": "stdout",
     "output_type": "stream",
     "text": [
      "[-1.41421356 -0.70710678  0.          0.70710678  1.41421356]\n"
     ]
    }
   ],
   "source": [
    "normalized_data=(data-mean)/sd\n",
    "print(normalized_data)"
   ]
  },
  {
   "cell_type": "code",
   "execution_count": 65,
   "id": "7e6ab2ba",
   "metadata": {},
   "outputs": [
    {
     "name": "stdout",
     "output_type": "stream",
     "text": [
      "[False False False False False  True  True  True]\n"
     ]
    }
   ],
   "source": [
    "### Logical operations\n",
    "data=np.array([1,2,3,4,5,6,7,8])\n",
    "\n",
    "print(data>5) # this operation is applied to every element of the array, and a new boolean array is returned based on the result"
   ]
  },
  {
   "cell_type": "code",
   "execution_count": null,
   "id": "ef3c08b8",
   "metadata": {},
   "outputs": [
    {
     "name": "stdout",
     "output_type": "stream",
     "text": [
      "[6 7 8]\n"
     ]
    }
   ],
   "source": [
    "# fetching datas based on a condition\n",
    "print(data[data>5])\n",
    "# only the elements from array which satisfy the condition, are fetched"
   ]
  },
  {
   "cell_type": "code",
   "execution_count": 68,
   "id": "d384f036",
   "metadata": {},
   "outputs": [
    {
     "name": "stdout",
     "output_type": "stream",
     "text": [
      "[2 3 4 5 6 7]\n"
     ]
    }
   ],
   "source": [
    "print(data[(data>=2)&(data<=7)])"
   ]
  }
 ],
 "metadata": {
  "kernelspec": {
   "display_name": "Python 3",
   "language": "python",
   "name": "python3"
  },
  "language_info": {
   "codemirror_mode": {
    "name": "ipython",
    "version": 3
   },
   "file_extension": ".py",
   "mimetype": "text/x-python",
   "name": "python",
   "nbconvert_exporter": "python",
   "pygments_lexer": "ipython3",
   "version": "3.12.10"
  }
 },
 "nbformat": 4,
 "nbformat_minor": 5
}
